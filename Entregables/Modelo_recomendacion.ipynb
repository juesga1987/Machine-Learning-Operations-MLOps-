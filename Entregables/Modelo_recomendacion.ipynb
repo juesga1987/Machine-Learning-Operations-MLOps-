{
 "cells": [
  {
   "cell_type": "markdown",
   "metadata": {},
   "source": [
    "# Modelo de recomendación - Item a Item"
   ]
  },
  {
   "cell_type": "markdown",
   "metadata": {},
   "source": [
    "Importamos las librerías y el dataset"
   ]
  },
  {
   "cell_type": "code",
   "execution_count": 121,
   "metadata": {},
   "outputs": [],
   "source": [
    "import pandas as pd\n",
    "from sklearn.metrics.pairwise import cosine_similarity\n",
    "from sklearn.feature_extraction.text import TfidfVectorizer"
   ]
  },
  {
   "cell_type": "markdown",
   "metadata": {},
   "source": [
    "Decidí utilizar el dataset games pues contiene los datos más relevantes para el aprendizaje del modelo. Es una muestra del 12% del dataframe que asegura el deployment y adicionalmente elimina los géneros que no tenían relevancia importante de acuerdo a su cantidad sobre el total del dataframe."
   ]
  },
  {
   "cell_type": "code",
   "execution_count": 122,
   "metadata": {},
   "outputs": [],
   "source": [
    "df = pd.read_csv(r'df_modelo_recomendacion.csv')"
   ]
  },
  {
   "cell_type": "code",
   "execution_count": 123,
   "metadata": {},
   "outputs": [
    {
     "data": {
      "text/plain": [
       "genres\n",
       "Indie         1500\n",
       "Action        1096\n",
       "Adventure      857\n",
       "Casual         756\n",
       "Strategy       646\n",
       "Simulation     608\n",
       "RPG            451\n",
       "Name: count, dtype: int64"
      ]
     },
     "execution_count": 123,
     "metadata": {},
     "output_type": "execute_result"
    }
   ],
   "source": [
    "df.genres.value_counts()"
   ]
  },
  {
   "cell_type": "markdown",
   "metadata": {},
   "source": [
    "Definimos el vector y las variables para asignar la recomendación en la matriz"
   ]
  },
  {
   "cell_type": "code",
   "execution_count": 124,
   "metadata": {},
   "outputs": [],
   "source": [
    "tfidf_vectorizer = TfidfVectorizer()\n",
    "tfidf_matrix = tfidf_vectorizer.fit_transform(df[\"publisher\"] + \" \" + df[\"genres\"] + \" \" + df[\"app_name\"])"
   ]
  },
  {
   "cell_type": "markdown",
   "metadata": {},
   "source": [
    "Calculo la matriz de similitud de coseno basada en la matriz TF-IDF:"
   ]
  },
  {
   "cell_type": "code",
   "execution_count": 125,
   "metadata": {},
   "outputs": [],
   "source": [
    "cosine_sim = cosine_similarity(tfidf_matrix, tfidf_matrix)"
   ]
  },
  {
   "cell_type": "markdown",
   "metadata": {},
   "source": [
    "Definimos una función que nos garantice:\n",
    "\n",
    "1. Que la recomendación no arrojara el mismo resultado del ítem que se selecciona como base para la recomendación.\n",
    "2. Lista que filtre los repetidos, para que las 5 sugerencias sean positivas.\n"
   ]
  },
  {
   "cell_type": "code",
   "execution_count": 126,
   "metadata": {},
   "outputs": [
    {
     "data": {
      "text/plain": [
       "{'Juego 1': 'The guard of dungeon',\n",
       " 'Juego 2': '3D Hardcore Cube 2',\n",
       " 'Juego 3': 'Roads of Rome 3',\n",
       " 'Juego 4': 'Slash it 2 - Russian Edition Pack',\n",
       " 'Juego 5': 'Animals Memory'}"
      ]
     },
     "execution_count": 126,
     "metadata": {},
     "output_type": "execute_result"
    }
   ],
   "source": [
    "def recomendaciones(id):\n",
    "    item_indice = df[df[\"id\"] == id].index[0] # Obtenemos el índice del item input en nuestro DataFrame\n",
    "    items_similares = list(enumerate(cosine_sim[item_indice])) # Generamos lista con los items similares que devolvió el modelo\n",
    "    similar_items_organizados = sorted(items_similares, key=lambda x: x[1], reverse=True) # Organizamos los items del punto anterior\n",
    "    indices = [index for index, _ in similar_items_organizados[1:10]] # Recorremos los ítems para traer las 5 recomendaciones\n",
    "\n",
    "    items_recomendados = df.iloc[indices][\"id\"].tolist()\n",
    "\n",
    "    # Obtengo los nombres de los ítems recomendados para el retorno de la función, no permito repetidos y limito a 5 el tamaño de la lista\n",
    "    lista_nombres = [df[df['id'] == elemento]['app_name'].iloc[0] for elemento in items_recomendados if elemento != id]\n",
    "    lista_nombres = lista_nombres[:5]\n",
    "\n",
    "    diccionario = {f'Juego {i+1}': nombre for i, nombre in enumerate(lista_nombres)}\n",
    "\n",
    "    return diccionario\n",
    "\n",
    "recomendaciones(610660)"
   ]
  }
 ],
 "metadata": {
  "kernelspec": {
   "display_name": "Python 3",
   "language": "python",
   "name": "python3"
  },
  "language_info": {
   "codemirror_mode": {
    "name": "ipython",
    "version": 3
   },
   "file_extension": ".py",
   "mimetype": "text/x-python",
   "name": "python",
   "nbconvert_exporter": "python",
   "pygments_lexer": "ipython3",
   "version": "3.11.4"
  },
  "orig_nbformat": 4
 },
 "nbformat": 4,
 "nbformat_minor": 2
}
