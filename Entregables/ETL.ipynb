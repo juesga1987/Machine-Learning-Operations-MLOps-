{
 "cells": [
  {
   "cell_type": "markdown",
   "metadata": {},
   "source": [
    "Importamos las librerías con las que trabajaremos"
   ]
  },
  {
   "cell_type": "code",
   "execution_count": 187,
   "metadata": {},
   "outputs": [],
   "source": [
    "import pandas as pd\n",
    "import numpy as np\n",
    "import seaborn as sns\n",
    "import matplotlib.pyplot as plt\n",
    "import yellowbrick as yb\n",
    "import json as js\n",
    "import ast\n",
    "import os\n",
    "sns.set()\n",
    "import datetime\n",
    "import re\n",
    "import emoji\n",
    "import datetime\n",
    "import pyarrow as pa\n",
    "import pyarrow.parquet as pq\n",
    "import warnings\n",
    "warnings.filterwarnings('ignore')"
   ]
  },
  {
   "cell_type": "markdown",
   "metadata": {},
   "source": [
    "REVIEWS"
   ]
  },
  {
   "cell_type": "markdown",
   "metadata": {},
   "source": [
    "Importamos y leemos el archivo australian_user_reviews.json, lo hacemos leyendo cada linea y haciendo un append de las mismas."
   ]
  },
  {
   "cell_type": "code",
   "execution_count": 188,
   "metadata": {},
   "outputs": [],
   "source": [
    "ruta = \"australian_user_reviews.json\"\n",
    "\n",
    "filas = []\n",
    "\n",
    "with open(ruta, encoding='MacRoman') as file:\n",
    "    for line in file.readlines():\n",
    "        filas.append(ast.literal_eval(line))\n",
    "\n",
    "df_reviews = pd.DataFrame(filas)"
   ]
  },
  {
   "cell_type": "markdown",
   "metadata": {},
   "source": [
    "Exploramos las columnas presentes en el archivo"
   ]
  },
  {
   "cell_type": "code",
   "execution_count": 189,
   "metadata": {},
   "outputs": [
    {
     "name": "stdout",
     "output_type": "stream",
     "text": [
      "<class 'pandas.core.frame.DataFrame'>\n",
      "RangeIndex: 25799 entries, 0 to 25798\n",
      "Data columns (total 3 columns):\n",
      " #   Column    Non-Null Count  Dtype \n",
      "---  ------    --------------  ----- \n",
      " 0   user_id   25799 non-null  object\n",
      " 1   user_url  25799 non-null  object\n",
      " 2   reviews   25799 non-null  object\n",
      "dtypes: object(3)\n",
      "memory usage: 604.8+ KB\n"
     ]
    }
   ],
   "source": [
    "df_reviews.info()"
   ]
  },
  {
   "cell_type": "markdown",
   "metadata": {},
   "source": [
    "Con el fin de evidenciar los datos hacemos un head que nos devuelva las primeras 10 filas."
   ]
  },
  {
   "cell_type": "code",
   "execution_count": 190,
   "metadata": {},
   "outputs": [
    {
     "data": {
      "text/html": [
       "<div>\n",
       "<style scoped>\n",
       "    .dataframe tbody tr th:only-of-type {\n",
       "        vertical-align: middle;\n",
       "    }\n",
       "\n",
       "    .dataframe tbody tr th {\n",
       "        vertical-align: top;\n",
       "    }\n",
       "\n",
       "    .dataframe thead th {\n",
       "        text-align: right;\n",
       "    }\n",
       "</style>\n",
       "<table border=\"1\" class=\"dataframe\">\n",
       "  <thead>\n",
       "    <tr style=\"text-align: right;\">\n",
       "      <th></th>\n",
       "      <th>user_id</th>\n",
       "      <th>user_url</th>\n",
       "      <th>reviews</th>\n",
       "    </tr>\n",
       "  </thead>\n",
       "  <tbody>\n",
       "    <tr>\n",
       "      <th>0</th>\n",
       "      <td>76561197970982479</td>\n",
       "      <td>http://steamcommunity.com/profiles/76561197970...</td>\n",
       "      <td>[{'funny': '', 'posted': 'Posted November 5, 2...</td>\n",
       "    </tr>\n",
       "    <tr>\n",
       "      <th>1</th>\n",
       "      <td>js41637</td>\n",
       "      <td>http://steamcommunity.com/id/js41637</td>\n",
       "      <td>[{'funny': '', 'posted': 'Posted June 24, 2014...</td>\n",
       "    </tr>\n",
       "    <tr>\n",
       "      <th>2</th>\n",
       "      <td>evcentric</td>\n",
       "      <td>http://steamcommunity.com/id/evcentric</td>\n",
       "      <td>[{'funny': '', 'posted': 'Posted February 3.',...</td>\n",
       "    </tr>\n",
       "    <tr>\n",
       "      <th>3</th>\n",
       "      <td>doctr</td>\n",
       "      <td>http://steamcommunity.com/id/doctr</td>\n",
       "      <td>[{'funny': '', 'posted': 'Posted October 14, 2...</td>\n",
       "    </tr>\n",
       "    <tr>\n",
       "      <th>4</th>\n",
       "      <td>maplemage</td>\n",
       "      <td>http://steamcommunity.com/id/maplemage</td>\n",
       "      <td>[{'funny': '3 people found this review funny',...</td>\n",
       "    </tr>\n",
       "  </tbody>\n",
       "</table>\n",
       "</div>"
      ],
      "text/plain": [
       "             user_id                                           user_url  \\\n",
       "0  76561197970982479  http://steamcommunity.com/profiles/76561197970...   \n",
       "1            js41637               http://steamcommunity.com/id/js41637   \n",
       "2          evcentric             http://steamcommunity.com/id/evcentric   \n",
       "3              doctr                 http://steamcommunity.com/id/doctr   \n",
       "4          maplemage             http://steamcommunity.com/id/maplemage   \n",
       "\n",
       "                                             reviews  \n",
       "0  [{'funny': '', 'posted': 'Posted November 5, 2...  \n",
       "1  [{'funny': '', 'posted': 'Posted June 24, 2014...  \n",
       "2  [{'funny': '', 'posted': 'Posted February 3.',...  \n",
       "3  [{'funny': '', 'posted': 'Posted October 14, 2...  \n",
       "4  [{'funny': '3 people found this review funny',...  "
      ]
     },
     "execution_count": 190,
     "metadata": {},
     "output_type": "execute_result"
    }
   ],
   "source": [
    "df_reviews.head(5)"
   ]
  },
  {
   "cell_type": "markdown",
   "metadata": {},
   "source": [
    "De acuerdo a lo observado, podemos evidenciar que la columna reviews esta compues por listas de diccionarios anidados, selecciono el método explode para extraer los diccionarios de las listas"
   ]
  },
  {
   "cell_type": "code",
   "execution_count": 191,
   "metadata": {},
   "outputs": [],
   "source": [
    "df_reviews2 = df_reviews.explode('reviews')"
   ]
  },
  {
   "cell_type": "code",
   "execution_count": 192,
   "metadata": {},
   "outputs": [
    {
     "name": "stdout",
     "output_type": "stream",
     "text": [
      "<class 'pandas.core.frame.DataFrame'>\n",
      "Index: 59333 entries, 0 to 25798\n",
      "Data columns (total 3 columns):\n",
      " #   Column    Non-Null Count  Dtype \n",
      "---  ------    --------------  ----- \n",
      " 0   user_id   59333 non-null  object\n",
      " 1   user_url  59333 non-null  object\n",
      " 2   reviews   59305 non-null  object\n",
      "dtypes: object(3)\n",
      "memory usage: 1.8+ MB\n"
     ]
    }
   ],
   "source": [
    "df_reviews2.info()"
   ]
  },
  {
   "cell_type": "markdown",
   "metadata": {},
   "source": [
    "Hacemos un dropna para eliminar los nan"
   ]
  },
  {
   "cell_type": "code",
   "execution_count": 193,
   "metadata": {},
   "outputs": [],
   "source": [
    "df_reviews2.dropna(inplace=True)"
   ]
  },
  {
   "cell_type": "markdown",
   "metadata": {},
   "source": [
    "No se pierde información relevante"
   ]
  },
  {
   "cell_type": "code",
   "execution_count": 194,
   "metadata": {},
   "outputs": [
    {
     "name": "stdout",
     "output_type": "stream",
     "text": [
      "<class 'pandas.core.frame.DataFrame'>\n",
      "Index: 59305 entries, 0 to 25798\n",
      "Data columns (total 3 columns):\n",
      " #   Column    Non-Null Count  Dtype \n",
      "---  ------    --------------  ----- \n",
      " 0   user_id   59305 non-null  object\n",
      " 1   user_url  59305 non-null  object\n",
      " 2   reviews   59305 non-null  object\n",
      "dtypes: object(3)\n",
      "memory usage: 1.8+ MB\n"
     ]
    }
   ],
   "source": [
    "df_reviews2.info()"
   ]
  },
  {
   "cell_type": "markdown",
   "metadata": {},
   "source": [
    "El método explode nos permitió eliminar las listas y consecuentemente obtener por usuario cada uno de los registros"
   ]
  },
  {
   "cell_type": "code",
   "execution_count": 195,
   "metadata": {},
   "outputs": [
    {
     "data": {
      "text/html": [
       "<div>\n",
       "<style scoped>\n",
       "    .dataframe tbody tr th:only-of-type {\n",
       "        vertical-align: middle;\n",
       "    }\n",
       "\n",
       "    .dataframe tbody tr th {\n",
       "        vertical-align: top;\n",
       "    }\n",
       "\n",
       "    .dataframe thead th {\n",
       "        text-align: right;\n",
       "    }\n",
       "</style>\n",
       "<table border=\"1\" class=\"dataframe\">\n",
       "  <thead>\n",
       "    <tr style=\"text-align: right;\">\n",
       "      <th></th>\n",
       "      <th>user_id</th>\n",
       "      <th>user_url</th>\n",
       "      <th>reviews</th>\n",
       "    </tr>\n",
       "  </thead>\n",
       "  <tbody>\n",
       "    <tr>\n",
       "      <th>0</th>\n",
       "      <td>76561197970982479</td>\n",
       "      <td>http://steamcommunity.com/profiles/76561197970...</td>\n",
       "      <td>{'funny': '', 'posted': 'Posted November 5, 20...</td>\n",
       "    </tr>\n",
       "    <tr>\n",
       "      <th>0</th>\n",
       "      <td>76561197970982479</td>\n",
       "      <td>http://steamcommunity.com/profiles/76561197970...</td>\n",
       "      <td>{'funny': '', 'posted': 'Posted July 15, 2011....</td>\n",
       "    </tr>\n",
       "    <tr>\n",
       "      <th>0</th>\n",
       "      <td>76561197970982479</td>\n",
       "      <td>http://steamcommunity.com/profiles/76561197970...</td>\n",
       "      <td>{'funny': '', 'posted': 'Posted April 21, 2011...</td>\n",
       "    </tr>\n",
       "    <tr>\n",
       "      <th>1</th>\n",
       "      <td>js41637</td>\n",
       "      <td>http://steamcommunity.com/id/js41637</td>\n",
       "      <td>{'funny': '', 'posted': 'Posted June 24, 2014....</td>\n",
       "    </tr>\n",
       "    <tr>\n",
       "      <th>1</th>\n",
       "      <td>js41637</td>\n",
       "      <td>http://steamcommunity.com/id/js41637</td>\n",
       "      <td>{'funny': '', 'posted': 'Posted September 8, 2...</td>\n",
       "    </tr>\n",
       "  </tbody>\n",
       "</table>\n",
       "</div>"
      ],
      "text/plain": [
       "             user_id                                           user_url  \\\n",
       "0  76561197970982479  http://steamcommunity.com/profiles/76561197970...   \n",
       "0  76561197970982479  http://steamcommunity.com/profiles/76561197970...   \n",
       "0  76561197970982479  http://steamcommunity.com/profiles/76561197970...   \n",
       "1            js41637               http://steamcommunity.com/id/js41637   \n",
       "1            js41637               http://steamcommunity.com/id/js41637   \n",
       "\n",
       "                                             reviews  \n",
       "0  {'funny': '', 'posted': 'Posted November 5, 20...  \n",
       "0  {'funny': '', 'posted': 'Posted July 15, 2011....  \n",
       "0  {'funny': '', 'posted': 'Posted April 21, 2011...  \n",
       "1  {'funny': '', 'posted': 'Posted June 24, 2014....  \n",
       "1  {'funny': '', 'posted': 'Posted September 8, 2...  "
      ]
     },
     "execution_count": 195,
     "metadata": {},
     "output_type": "execute_result"
    }
   ],
   "source": [
    "df_reviews2.head(5)"
   ]
  },
  {
   "cell_type": "markdown",
   "metadata": {},
   "source": [
    "Creamos un código con un loop para acceder a cada diccionario y extraer la data a listas para luego crear las columnas"
   ]
  },
  {
   "cell_type": "code",
   "execution_count": 196,
   "metadata": {},
   "outputs": [],
   "source": [
    "funny = []\n",
    "posted = []\n",
    "last_edited = [] \n",
    "item_id = []\n",
    "helpful = []\n",
    "recommend = []\n",
    "review = []\n",
    "\n",
    "for elemento in df_reviews2['reviews']:\n",
    "    for k, v in elemento.items():\n",
    "        if k == 'funny':\n",
    "            funny.append(v)\n",
    "        if k == 'posted':\n",
    "            posted.append(v)\n",
    "        if k == 'last_edited':\n",
    "            last_edited.append(v)\n",
    "        if k == 'item_id':\n",
    "            item_id.append(v)\n",
    "        if k == 'helpful':\n",
    "            helpful.append(v)      \n",
    "        if k == 'recommend':\n",
    "            recommend.append(v)\n",
    "        if k == 'review':\n",
    "            review.append(v)      "
   ]
  },
  {
   "cell_type": "markdown",
   "metadata": {},
   "source": [
    "Creamos las nuevas columnas"
   ]
  },
  {
   "cell_type": "code",
   "execution_count": 197,
   "metadata": {},
   "outputs": [],
   "source": [
    "df_reviews2['funny'] = funny\n",
    "df_reviews2['posted'] = posted\n",
    "df_reviews2['last_edited'] = last_edited\n",
    "df_reviews2['item_id'] = item_id\n",
    "df_reviews2['helpful'] = helpful\n",
    "df_reviews2['recommend'] = recommend\n",
    "df_reviews2['review'] = review"
   ]
  },
  {
   "cell_type": "markdown",
   "metadata": {},
   "source": [
    "Eliminamos la columna reviews pues ya no es de utilidad y extrajimos toda la data que se encontraba en la misma"
   ]
  },
  {
   "cell_type": "code",
   "execution_count": 198,
   "metadata": {},
   "outputs": [],
   "source": [
    "df_reviews2.drop(columns='reviews', inplace=True)"
   ]
  },
  {
   "cell_type": "markdown",
   "metadata": {},
   "source": [
    "Esta es la estructura de nuestro dataframe, que mantiene el número de filas garantizando la disponibilidad de los datos"
   ]
  },
  {
   "cell_type": "code",
   "execution_count": 199,
   "metadata": {},
   "outputs": [
    {
     "name": "stdout",
     "output_type": "stream",
     "text": [
      "<class 'pandas.core.frame.DataFrame'>\n",
      "Index: 59305 entries, 0 to 25798\n",
      "Data columns (total 9 columns):\n",
      " #   Column       Non-Null Count  Dtype \n",
      "---  ------       --------------  ----- \n",
      " 0   user_id      59305 non-null  object\n",
      " 1   user_url     59305 non-null  object\n",
      " 2   funny        59305 non-null  object\n",
      " 3   posted       59305 non-null  object\n",
      " 4   last_edited  59305 non-null  object\n",
      " 5   item_id      59305 non-null  object\n",
      " 6   helpful      59305 non-null  object\n",
      " 7   recommend    59305 non-null  bool  \n",
      " 8   review       59305 non-null  object\n",
      "dtypes: bool(1), object(8)\n",
      "memory usage: 4.1+ MB\n"
     ]
    }
   ],
   "source": [
    "df_reviews2.info()"
   ]
  },
  {
   "cell_type": "markdown",
   "metadata": {},
   "source": [
    "Columna Posted:\n",
    "\n",
    "1. Depuramos las fechas para cumplir con el formato YYYY-MM-DD: Creamos primero una columna copia de 'Posted'.\n",
    "2. Eliminamos la palabra posted y el punto al final.\n",
    "3. Extraemos el año.\n",
    "4. Verificamos valores únicos para eliminar aquellas filas que no tienen año.\n"
   ]
  },
  {
   "cell_type": "code",
   "execution_count": 200,
   "metadata": {},
   "outputs": [
    {
     "data": {
      "text/plain": [
       "array(['2011', '2014', '2013', 'ry 3', '2015', '2012', 'y 20', 'y 24',\n",
       "       'e 16', 'e 11', 'y 27', 't 23', 'y 16', 'h 31', 'ly 9', 'y 18',\n",
       "       'y 30', 'y 28', 'ay 7', 'il 4', 'h 30', 'h 28', 'y 11', 'l 20',\n",
       "       'y 26', 't 31', 'h 27', 'y 15', 't 19', 'r 14', 'ly 8', 'y 23',\n",
       "       'er 9', 'y 22', 'y 29', 'ly 3', 'e 20', 'y 17', 'r 17', 't 26',\n",
       "       'e 29', 'er 4', 'e 26', 'e 14', 'ch 5', 'h 19', 'l 19', 'l 18',\n",
       "       'ry 7', 'l 10', 'r 15', 'l 15', 'e 22', 'y 14', 'e 27', 'ch 8',\n",
       "       'ay 1', 'ch 7', 'y 10', 'r 12', 'e 25', 'h 20', 'y 13', 't 16',\n",
       "       'y 31', 'ch 6', 'er 8', 'er 2', 'h 25', 'ly 7', 'e 18', 'l 22',\n",
       "       'h 12', 't 13', 'ch 2', 't 15', 't 22', 'ry 9', '2010', 'h 24',\n",
       "       'ay 6', 'ne 8', 'e 24', 'ne 3', 't 14', 't 28', 'l 12', 't 21',\n",
       "       'ly 5', 'ry 1', 'y 12', 'e 17', 'ch 4', 'st 3', 'y 21', 'e 28',\n",
       "       'ly 6', 't 29', 'ry 2', 'h 10', 'ly 4', 'er 7', 'h 11', 'r 10',\n",
       "       'l 28', 'h 22', 'ry 8', 'il 2', 't 12', 'ry 4', 'y 25', 'r 16',\n",
       "       'e 23', 'e 15', 'l 26', 'ay 4', 'er 3', 'h 26', 'st 7', 'y 19',\n",
       "       'l 29', 'r 11', 'ay 5', 't 17', 'il 1', 'ne 5', 'il 9', 'e 30',\n",
       "       'l 25', 'il 3', 'ry 6', 'h 15', 't 30', 'e 10', 'l 14', 'st 5',\n",
       "       'h 29', 't 25', 'l 13', 'e 12', 'ry 5', 'h 21', 'ly 2', 'ne 2',\n",
       "       'h 14', 'ay 8', 'e 21', 'ch 1', 'l 21', 't 20', 't 10', 'ne 7',\n",
       "       'l 30', 'l 17', 'ne 9', 'ne 4', 'l 11', 'l 27', 'il 7', 'e 13',\n",
       "       't 27', 'st 6', 't 18', 'ch 9', 'ne 6', 'h 23', 'r 18', 'st 2',\n",
       "       'ly 1', 'st 9', 'ch 3', 'l 16', 'r 13', 'il 5', 'er 5', 'st 8',\n",
       "       'e 19', 'er 6', 't 24', 'h 18', 'il 8', 'ay 3', 'h 16', 'st 1',\n",
       "       'er 1', 'ne 1', 'ay 9', 'ay 2', 'h 13', 'l 23', 'l 24', 'st 4',\n",
       "       'h 17', 'il 6', 't 11'], dtype=object)"
      ]
     },
     "execution_count": 200,
     "metadata": {},
     "output_type": "execute_result"
    }
   ],
   "source": [
    "df_reviews2['posted_2'] = df_reviews2['posted']\n",
    "df_reviews2['posted_2'] = df_reviews2['posted_2'].astype(str)\n",
    "df_reviews2['posted_2'] = df_reviews2['posted_2'].str.strip('Posted ')\n",
    "df_reviews2['posted_2'] = df_reviews2['posted_2'].str.strip('.')\n",
    "df_reviews2[\"anio_posted\"] = df_reviews2['posted_2'].apply(lambda x: x[-4:])\n",
    "df_reviews2['anio_posted'].unique()"
   ]
  },
  {
   "cell_type": "markdown",
   "metadata": {},
   "source": [
    "Reemplazamos columnas sin año por el valor 0 para luego proceder a eliminarlas"
   ]
  },
  {
   "cell_type": "code",
   "execution_count": 201,
   "metadata": {},
   "outputs": [],
   "source": [
    "lista = []\n",
    "\n",
    "for ind, elemento in enumerate(df_reviews2['anio_posted']):\n",
    "    if elemento == '2011' or elemento == '2012' or elemento == '2013' or elemento == '2014' or elemento == '2015':\n",
    "        lista.append(int(elemento))\n",
    "    else:\n",
    "        lista.append(0)\n",
    "\n",
    "df_reviews2['anio_posted'] = lista"
   ]
  },
  {
   "cell_type": "markdown",
   "metadata": {},
   "source": [
    "Finalmente filtramos en el dataset solo aquellas filas que tengan año en la columna posted"
   ]
  },
  {
   "cell_type": "code",
   "execution_count": 202,
   "metadata": {},
   "outputs": [],
   "source": [
    "df_reviews2 = df_reviews2[df_reviews2['anio_posted'] != 0]"
   ]
  },
  {
   "cell_type": "markdown",
   "metadata": {},
   "source": [
    "Cambiamos formato de fecha para ello definimos función y la aplicamos"
   ]
  },
  {
   "cell_type": "code",
   "execution_count": 203,
   "metadata": {},
   "outputs": [],
   "source": [
    "def to_date(text: str):\n",
    "    date_string = text\n",
    "    date_format = \"%B %d, %Y\"\n",
    "    date = datetime.datetime.strptime(date_string, date_format)\n",
    "    return date\n",
    "\n",
    "df_reviews2['posted_2'] = df_reviews2['posted_2'].apply(lambda x: to_date(x))"
   ]
  },
  {
   "cell_type": "markdown",
   "metadata": {},
   "source": [
    "Reemplazamos valores en la columna posted y eliminamos la que había sido creada para el proceso"
   ]
  },
  {
   "cell_type": "code",
   "execution_count": 204,
   "metadata": {},
   "outputs": [],
   "source": [
    "df_reviews2['posted'] = df_reviews2['posted_2']\n",
    "df_reviews2.drop(columns='posted_2', inplace=True)"
   ]
  },
  {
   "cell_type": "markdown",
   "metadata": {},
   "source": [
    "Ahora vamos a proceder con la columna helpful, en la misma haremos:\n",
    "\n",
    "- Reemplazar el texto 'No ratings yet' por nan.\n",
    "- Extraeremos los % de ayuda de los paréntesis para que al usar el algoritmo de recomendación esta columna sea de ayuda.\n",
    "\n",
    "El código a continuación hace ambos pasos."
   ]
  },
  {
   "cell_type": "code",
   "execution_count": 205,
   "metadata": {},
   "outputs": [],
   "source": [
    "df_reviews2['helpful_2'] = df_reviews2['helpful'].str.extract(r'\\((.*?)\\)')\n",
    "df_reviews2['helpful'] = df_reviews2['helpful_2']\n",
    "df_reviews2.drop(columns='helpful_2', inplace=True)\n"
   ]
  },
  {
   "cell_type": "markdown",
   "metadata": {},
   "source": [
    "Procederemos a depurar la columna reviews, la misma está compuesta por texto y emoticones, los mismos generan distorsión a la hora de hacer al análisis de sentimiento, por lo que vamos a reemplazar el emoticon por la palabra más adecuada para describir el sentimiento."
   ]
  },
  {
   "cell_type": "code",
   "execution_count": 206,
   "metadata": {},
   "outputs": [
    {
     "data": {
      "text/plain": [
       "0        []\n",
       "0        []\n",
       "0        []\n",
       "1        []\n",
       "1        []\n",
       "         ..\n",
       "25764    []\n",
       "25765    []\n",
       "25769    []\n",
       "25771    []\n",
       "25780    []\n",
       "Name: review, Length: 49120, dtype: object"
      ]
     },
     "execution_count": 206,
     "metadata": {},
     "output_type": "execute_result"
    }
   ],
   "source": [
    "#pd.set_option('display.max_rows', None)\n",
    "\n",
    "def emojis_count(x):\n",
    "    emojis = []\n",
    "    emojis_encontrados = emoji.emoji_list(x)\n",
    "    if emojis_encontrados == '':\n",
    "        return ''\n",
    "    for e in emojis_encontrados:\n",
    "        emojis.append(e['emoji'])\n",
    "    return emojis\n",
    "emojis = df_reviews2['review'].apply(lambda x: emojis_count(x))\n",
    "emojis\n"
   ]
  },
  {
   "cell_type": "code",
   "execution_count": 207,
   "metadata": {},
   "outputs": [
    {
     "name": "stdout",
     "output_type": "stream",
     "text": [
      "26            [™]\n",
      "42            [©]\n",
      "129        [©, ®]\n",
      "129        [®, ™]\n",
      "129        [©, ™]\n",
      "129     [©, ®, ™]\n",
      "2301          [®]\n",
      "Name: review, dtype: object\n"
     ]
    }
   ],
   "source": [
    "def obtener_emojis_unicos(emojis):\n",
    "    return list(set(emojis))\n",
    "emojis = emojis[emojis.apply(lambda x: len(x) > 0)]\n",
    "emojis = emojis.apply(obtener_emojis_unicos)\n",
    "emojis.drop_duplicates(inplace=True)\n",
    "emojis.count()\n",
    "print(emojis)"
   ]
  },
  {
   "cell_type": "code",
   "execution_count": 208,
   "metadata": {},
   "outputs": [],
   "source": [
    "emoji_reemplazos = {\n",
    "    '✔': 'Approved ',\n",
    "    '💯': 'Perfect ',\n",
    "    '♀': 'Woman ',\n",
    "    '❤': 'inLove ',\n",
    "    '💋': 'Kiss ',\n",
    "    '💀': 'death ',\n",
    "    '™': 'Trademark ',\n",
    "    '®': 'Registered Trademark ',\n",
    "    '©': 'Copyright ',\n",
    "    '☺': 'Smile ',\n",
    "    '♥': 'Heart ',\n",
    "    '👌': 'Okay ',\n",
    "    '👀': 'amazed ',\n",
    "    '⌛': 'long_wait ',\n",
    "    '☹': 'Sad ',\n",
    "    '☑': 'accomplish ',\n",
    "    '😊': 'Happiness ',\n",
    "    '😄': 'laugh ',\n",
    "    '◀': 'recoil ',\n",
    "    ':D': 'laugh ',\n",
    "    ':3': 'smile',\n",
    "    'xD': 'laugh_loud',\n",
    "    'ô•': 'oh',\n",
    "    ':c': 'adictive',\n",
    "    ':)': 'happy',\n",
    "    ':p': 'boring',\n",
    "    '^_^': 'good',\n",
    "    'D=': 'pain',\n",
    "    ':(': 'sad',\n",
    "    'xd': 'happiness',\n",
    "    '=P': 'crazy',\n",
    "    '<3': 'heart',\n",
    "    ';>': 'blink',\n",
    "    '(Y)': 'thumbs up',\n",
    "    '*---*': 'enjoyable',\n",
    "    ',3': 'amazing',\n",
    "    'xt': 'unwanted',\n",
    "    '-' : 'recommended',\n",
    "    ':}': 'good',\n",
    "    'c:': 'happy',\n",
    "    ':v': 'want more',\n",
    "    'x3': 'cute face',\n",
    "    'XD': 'adictive',\n",
    "    '(y)': 'thumbs up',\n",
    "    ':P': 'bad',\n",
    "    ';0': 'laugh',\n",
    "    '=)': 'happy',\n",
    "    'gg': 'great game',\n",
    "    'GG': 'great game',\n",
    "    ';D': 'great game',\n",
    "    ':c': 'sad'\n",
    "\n",
    "}"
   ]
  },
  {
   "cell_type": "code",
   "execution_count": 209,
   "metadata": {},
   "outputs": [],
   "source": [
    "def replace_emojis_with_words(text):\n",
    "    for emoji, replacement in emoji_reemplazos.items():\n",
    "        text = text.replace(emoji, replacement)\n",
    "    return text"
   ]
  },
  {
   "cell_type": "code",
   "execution_count": 210,
   "metadata": {},
   "outputs": [],
   "source": [
    "df_reviews2['review'] = df_reviews2['review'].apply(replace_emojis_with_words)"
   ]
  },
  {
   "cell_type": "code",
   "execution_count": 211,
   "metadata": {},
   "outputs": [
    {
     "data": {
      "text/plain": [
       "0        Simple yet with great replayability. In my opi...\n",
       "0                     It's unique and worth a playthrough.\n",
       "0        Great atmosphere. The gunplay can be a bit chu...\n",
       "1        I know what you think when you see this title ...\n",
       "1        For a simple (it's actually not all that simpl...\n",
       "                               ...                        \n",
       "25764                                       its FUNNNNNNNN\n",
       "25765    Awesome fantasy game if you don't mind the gra...\n",
       "25769                                     Prettyy Mad Game\n",
       "25771                                   AMAZING GAME 10/10\n",
       "25780    Why I voted yes? 1. Girl characters have boobs...\n",
       "Name: review, Length: 49120, dtype: object"
      ]
     },
     "execution_count": 211,
     "metadata": {},
     "output_type": "execute_result"
    }
   ],
   "source": [
    "df_reviews2['review']"
   ]
  },
  {
   "cell_type": "markdown",
   "metadata": {},
   "source": [
    "GAMES"
   ]
  },
  {
   "cell_type": "markdown",
   "metadata": {},
   "source": [
    "Importamos y leemos el archivo output_steam_games.json"
   ]
  },
  {
   "cell_type": "code",
   "execution_count": 212,
   "metadata": {},
   "outputs": [],
   "source": [
    "ruta = \"output_steam_games.json\"\n",
    "\n",
    "filas = []\n",
    "\n",
    "with open(ruta, encoding='MacRoman') as file:\n",
    "    for line in file.readlines():\n",
    "        filas.append(js.loads((line))) # Como los tipo de valores no eran strings que es el tipo esperado por ast.litreal_eval, usamos json.loads\n",
    "\n",
    "df_games = pd.DataFrame(filas)"
   ]
  },
  {
   "cell_type": "code",
   "execution_count": 213,
   "metadata": {},
   "outputs": [
    {
     "name": "stdout",
     "output_type": "stream",
     "text": [
      "<class 'pandas.core.frame.DataFrame'>\n",
      "RangeIndex: 120445 entries, 0 to 120444\n",
      "Data columns (total 13 columns):\n",
      " #   Column        Non-Null Count  Dtype \n",
      "---  ------        --------------  ----- \n",
      " 0   publisher     24083 non-null  object\n",
      " 1   genres        28852 non-null  object\n",
      " 2   app_name      32133 non-null  object\n",
      " 3   title         30085 non-null  object\n",
      " 4   url           32135 non-null  object\n",
      " 5   release_date  30068 non-null  object\n",
      " 6   tags          31972 non-null  object\n",
      " 7   reviews_url   32133 non-null  object\n",
      " 8   specs         31465 non-null  object\n",
      " 9   price         30758 non-null  object\n",
      " 10  early_access  32135 non-null  object\n",
      " 11  id            32133 non-null  object\n",
      " 12  developer     28836 non-null  object\n",
      "dtypes: object(13)\n",
      "memory usage: 11.9+ MB\n"
     ]
    }
   ],
   "source": [
    "df_games.info()"
   ]
  },
  {
   "cell_type": "code",
   "execution_count": 214,
   "metadata": {},
   "outputs": [
    {
     "data": {
      "text/html": [
       "<div>\n",
       "<style scoped>\n",
       "    .dataframe tbody tr th:only-of-type {\n",
       "        vertical-align: middle;\n",
       "    }\n",
       "\n",
       "    .dataframe tbody tr th {\n",
       "        vertical-align: top;\n",
       "    }\n",
       "\n",
       "    .dataframe thead th {\n",
       "        text-align: right;\n",
       "    }\n",
       "</style>\n",
       "<table border=\"1\" class=\"dataframe\">\n",
       "  <thead>\n",
       "    <tr style=\"text-align: right;\">\n",
       "      <th></th>\n",
       "      <th>publisher</th>\n",
       "      <th>genres</th>\n",
       "      <th>app_name</th>\n",
       "      <th>title</th>\n",
       "      <th>url</th>\n",
       "      <th>release_date</th>\n",
       "      <th>tags</th>\n",
       "      <th>reviews_url</th>\n",
       "      <th>specs</th>\n",
       "      <th>price</th>\n",
       "      <th>early_access</th>\n",
       "      <th>id</th>\n",
       "      <th>developer</th>\n",
       "    </tr>\n",
       "  </thead>\n",
       "  <tbody>\n",
       "    <tr>\n",
       "      <th>0</th>\n",
       "      <td>NaN</td>\n",
       "      <td>NaN</td>\n",
       "      <td>NaN</td>\n",
       "      <td>NaN</td>\n",
       "      <td>NaN</td>\n",
       "      <td>NaN</td>\n",
       "      <td>NaN</td>\n",
       "      <td>NaN</td>\n",
       "      <td>NaN</td>\n",
       "      <td>NaN</td>\n",
       "      <td>NaN</td>\n",
       "      <td>NaN</td>\n",
       "      <td>NaN</td>\n",
       "    </tr>\n",
       "    <tr>\n",
       "      <th>1</th>\n",
       "      <td>NaN</td>\n",
       "      <td>NaN</td>\n",
       "      <td>NaN</td>\n",
       "      <td>NaN</td>\n",
       "      <td>NaN</td>\n",
       "      <td>NaN</td>\n",
       "      <td>NaN</td>\n",
       "      <td>NaN</td>\n",
       "      <td>NaN</td>\n",
       "      <td>NaN</td>\n",
       "      <td>NaN</td>\n",
       "      <td>NaN</td>\n",
       "      <td>NaN</td>\n",
       "    </tr>\n",
       "    <tr>\n",
       "      <th>2</th>\n",
       "      <td>NaN</td>\n",
       "      <td>NaN</td>\n",
       "      <td>NaN</td>\n",
       "      <td>NaN</td>\n",
       "      <td>NaN</td>\n",
       "      <td>NaN</td>\n",
       "      <td>NaN</td>\n",
       "      <td>NaN</td>\n",
       "      <td>NaN</td>\n",
       "      <td>NaN</td>\n",
       "      <td>NaN</td>\n",
       "      <td>NaN</td>\n",
       "      <td>NaN</td>\n",
       "    </tr>\n",
       "    <tr>\n",
       "      <th>3</th>\n",
       "      <td>NaN</td>\n",
       "      <td>NaN</td>\n",
       "      <td>NaN</td>\n",
       "      <td>NaN</td>\n",
       "      <td>NaN</td>\n",
       "      <td>NaN</td>\n",
       "      <td>NaN</td>\n",
       "      <td>NaN</td>\n",
       "      <td>NaN</td>\n",
       "      <td>NaN</td>\n",
       "      <td>NaN</td>\n",
       "      <td>NaN</td>\n",
       "      <td>NaN</td>\n",
       "    </tr>\n",
       "    <tr>\n",
       "      <th>4</th>\n",
       "      <td>NaN</td>\n",
       "      <td>NaN</td>\n",
       "      <td>NaN</td>\n",
       "      <td>NaN</td>\n",
       "      <td>NaN</td>\n",
       "      <td>NaN</td>\n",
       "      <td>NaN</td>\n",
       "      <td>NaN</td>\n",
       "      <td>NaN</td>\n",
       "      <td>NaN</td>\n",
       "      <td>NaN</td>\n",
       "      <td>NaN</td>\n",
       "      <td>NaN</td>\n",
       "    </tr>\n",
       "    <tr>\n",
       "      <th>5</th>\n",
       "      <td>NaN</td>\n",
       "      <td>NaN</td>\n",
       "      <td>NaN</td>\n",
       "      <td>NaN</td>\n",
       "      <td>NaN</td>\n",
       "      <td>NaN</td>\n",
       "      <td>NaN</td>\n",
       "      <td>NaN</td>\n",
       "      <td>NaN</td>\n",
       "      <td>NaN</td>\n",
       "      <td>NaN</td>\n",
       "      <td>NaN</td>\n",
       "      <td>NaN</td>\n",
       "    </tr>\n",
       "    <tr>\n",
       "      <th>6</th>\n",
       "      <td>NaN</td>\n",
       "      <td>NaN</td>\n",
       "      <td>NaN</td>\n",
       "      <td>NaN</td>\n",
       "      <td>NaN</td>\n",
       "      <td>NaN</td>\n",
       "      <td>NaN</td>\n",
       "      <td>NaN</td>\n",
       "      <td>NaN</td>\n",
       "      <td>NaN</td>\n",
       "      <td>NaN</td>\n",
       "      <td>NaN</td>\n",
       "      <td>NaN</td>\n",
       "    </tr>\n",
       "    <tr>\n",
       "      <th>7</th>\n",
       "      <td>NaN</td>\n",
       "      <td>NaN</td>\n",
       "      <td>NaN</td>\n",
       "      <td>NaN</td>\n",
       "      <td>NaN</td>\n",
       "      <td>NaN</td>\n",
       "      <td>NaN</td>\n",
       "      <td>NaN</td>\n",
       "      <td>NaN</td>\n",
       "      <td>NaN</td>\n",
       "      <td>NaN</td>\n",
       "      <td>NaN</td>\n",
       "      <td>NaN</td>\n",
       "    </tr>\n",
       "    <tr>\n",
       "      <th>8</th>\n",
       "      <td>NaN</td>\n",
       "      <td>NaN</td>\n",
       "      <td>NaN</td>\n",
       "      <td>NaN</td>\n",
       "      <td>NaN</td>\n",
       "      <td>NaN</td>\n",
       "      <td>NaN</td>\n",
       "      <td>NaN</td>\n",
       "      <td>NaN</td>\n",
       "      <td>NaN</td>\n",
       "      <td>NaN</td>\n",
       "      <td>NaN</td>\n",
       "      <td>NaN</td>\n",
       "    </tr>\n",
       "    <tr>\n",
       "      <th>9</th>\n",
       "      <td>NaN</td>\n",
       "      <td>NaN</td>\n",
       "      <td>NaN</td>\n",
       "      <td>NaN</td>\n",
       "      <td>NaN</td>\n",
       "      <td>NaN</td>\n",
       "      <td>NaN</td>\n",
       "      <td>NaN</td>\n",
       "      <td>NaN</td>\n",
       "      <td>NaN</td>\n",
       "      <td>NaN</td>\n",
       "      <td>NaN</td>\n",
       "      <td>NaN</td>\n",
       "    </tr>\n",
       "  </tbody>\n",
       "</table>\n",
       "</div>"
      ],
      "text/plain": [
       "  publisher genres app_name title  url release_date tags reviews_url specs  \\\n",
       "0       NaN    NaN      NaN   NaN  NaN          NaN  NaN         NaN   NaN   \n",
       "1       NaN    NaN      NaN   NaN  NaN          NaN  NaN         NaN   NaN   \n",
       "2       NaN    NaN      NaN   NaN  NaN          NaN  NaN         NaN   NaN   \n",
       "3       NaN    NaN      NaN   NaN  NaN          NaN  NaN         NaN   NaN   \n",
       "4       NaN    NaN      NaN   NaN  NaN          NaN  NaN         NaN   NaN   \n",
       "5       NaN    NaN      NaN   NaN  NaN          NaN  NaN         NaN   NaN   \n",
       "6       NaN    NaN      NaN   NaN  NaN          NaN  NaN         NaN   NaN   \n",
       "7       NaN    NaN      NaN   NaN  NaN          NaN  NaN         NaN   NaN   \n",
       "8       NaN    NaN      NaN   NaN  NaN          NaN  NaN         NaN   NaN   \n",
       "9       NaN    NaN      NaN   NaN  NaN          NaN  NaN         NaN   NaN   \n",
       "\n",
       "  price early_access   id developer  \n",
       "0   NaN          NaN  NaN       NaN  \n",
       "1   NaN          NaN  NaN       NaN  \n",
       "2   NaN          NaN  NaN       NaN  \n",
       "3   NaN          NaN  NaN       NaN  \n",
       "4   NaN          NaN  NaN       NaN  \n",
       "5   NaN          NaN  NaN       NaN  \n",
       "6   NaN          NaN  NaN       NaN  \n",
       "7   NaN          NaN  NaN       NaN  \n",
       "8   NaN          NaN  NaN       NaN  \n",
       "9   NaN          NaN  NaN       NaN  "
      ]
     },
     "execution_count": 214,
     "metadata": {},
     "output_type": "execute_result"
    }
   ],
   "source": [
    "df_games.head(10)"
   ]
  },
  {
   "cell_type": "markdown",
   "metadata": {},
   "source": [
    "Vamos a extraer los datos de genres pues  specs y tags no es necesario desanidarlo"
   ]
  },
  {
   "cell_type": "code",
   "execution_count": 215,
   "metadata": {},
   "outputs": [],
   "source": [
    "df_games = df_games.explode('genres')"
   ]
  },
  {
   "cell_type": "code",
   "execution_count": 216,
   "metadata": {},
   "outputs": [
    {
     "name": "stdout",
     "output_type": "stream",
     "text": [
      "<class 'pandas.core.frame.DataFrame'>\n",
      "Index: 163147 entries, 0 to 120444\n",
      "Data columns (total 13 columns):\n",
      " #   Column        Non-Null Count  Dtype \n",
      "---  ------        --------------  ----- \n",
      " 0   publisher     59243 non-null  object\n",
      " 1   genres        71554 non-null  object\n",
      " 2   app_name      74834 non-null  object\n",
      " 3   title         72786 non-null  object\n",
      " 4   url           74837 non-null  object\n",
      " 5   release_date  72735 non-null  object\n",
      " 6   tags          74652 non-null  object\n",
      " 7   reviews_url   74834 non-null  object\n",
      " 8   specs         73896 non-null  object\n",
      " 9   price         71491 non-null  object\n",
      " 10  early_access  74837 non-null  object\n",
      " 11  id            74834 non-null  object\n",
      " 12  developer     71358 non-null  object\n",
      "dtypes: object(13)\n",
      "memory usage: 17.4+ MB\n"
     ]
    }
   ],
   "source": [
    "df_games.info()"
   ]
  },
  {
   "cell_type": "markdown",
   "metadata": {},
   "source": [
    "eliminamos los nan del archivo"
   ]
  },
  {
   "cell_type": "code",
   "execution_count": 217,
   "metadata": {},
   "outputs": [
    {
     "name": "stdout",
     "output_type": "stream",
     "text": [
      "<class 'pandas.core.frame.DataFrame'>\n",
      "Index: 56276 entries, 88310 to 120443\n",
      "Data columns (total 13 columns):\n",
      " #   Column        Non-Null Count  Dtype \n",
      "---  ------        --------------  ----- \n",
      " 0   publisher     56276 non-null  object\n",
      " 1   genres        56276 non-null  object\n",
      " 2   app_name      56276 non-null  object\n",
      " 3   title         56276 non-null  object\n",
      " 4   url           56276 non-null  object\n",
      " 5   release_date  56276 non-null  object\n",
      " 6   tags          56260 non-null  object\n",
      " 7   reviews_url   56276 non-null  object\n",
      " 8   specs         55739 non-null  object\n",
      " 9   price         56276 non-null  object\n",
      " 10  early_access  56276 non-null  object\n",
      " 11  id            56276 non-null  object\n",
      " 12  developer     56163 non-null  object\n",
      "dtypes: object(13)\n",
      "memory usage: 6.0+ MB\n"
     ]
    }
   ],
   "source": [
    "df_games.dropna(subset=['genres','publisher','app_name', 'price','release_date','id'], inplace=True)\n",
    "df_games.info()\n"
   ]
  },
  {
   "cell_type": "markdown",
   "metadata": {},
   "source": [
    "Vamos a separar la columna release date y crear una para el año ya que se identificaros valores en formato que no son fecha y palabras."
   ]
  },
  {
   "cell_type": "code",
   "execution_count": 218,
   "metadata": {},
   "outputs": [],
   "source": [
    "df_games['release_date_anio'] = df_games['release_date'] .str.split('-').str[0]\n",
    "df_games['release_date_anio_2'] = df_games['release_date_anio'].str[-4:]\n",
    "df_games['release_date_anio_2'] = df_games['release_date_anio_2'].replace('OON™', '')\n",
    "df_games['release_date_anio_2'] = df_games['release_date_anio_2'].replace('SOON', '')\n",
    "df_games['release_date_anio'] = df_games['release_date_anio_2']\n"
   ]
  },
  {
   "cell_type": "code",
   "execution_count": 219,
   "metadata": {},
   "outputs": [
    {
     "data": {
      "text/plain": [
       "release_date_anio\n",
       "2017    19968\n",
       "2016    13793\n",
       "2015     9157\n",
       "2014     4688\n",
       "2013     2557\n",
       "2012     2005\n",
       "2011      933\n",
       "2010      652\n",
       "2009      478\n",
       "2008      319\n",
       "2007      248\n",
       "2006      213\n",
       "2018      209\n",
       "2005      123\n",
       "2003      117\n",
       "2001       99\n",
       "2004       91\n",
       "1998       74\n",
       "1999       73\n",
       "1997       63\n",
       "2002       61\n",
       "2000       55\n",
       "1996       55\n",
       "1994       51\n",
       "1995       48\n",
       "1993       39\n",
       "1992       24\n",
       "1991       19\n",
       "1989       11\n",
       "1990       11\n",
       "1988        9\n",
       "2019        6\n",
       "1984        5\n",
       "1987        5\n",
       "1986        5\n",
       "            5\n",
       "1983        3\n",
       "2021        3\n",
       "1985        1\n",
       "Name: count, dtype: int64"
      ]
     },
     "execution_count": 219,
     "metadata": {},
     "output_type": "execute_result"
    }
   ],
   "source": [
    "a = df_games['release_date_anio'].value_counts()\n",
    "a"
   ]
  },
  {
   "cell_type": "code",
   "execution_count": 220,
   "metadata": {},
   "outputs": [],
   "source": [
    "df_games.drop(columns=['release_date_anio_2'], inplace = True)"
   ]
  },
  {
   "cell_type": "markdown",
   "metadata": {},
   "source": [
    "Cambiamos el tipo de dato de price que se encuentra como objeto, primero haciendo un replace de las filas free to play en todas sus formas también hay juegos que no tienen precio, estos también los imputaremos con 0."
   ]
  },
  {
   "cell_type": "code",
   "execution_count": 221,
   "metadata": {},
   "outputs": [],
   "source": [
    "df_games['price'] = df_games['price'].replace(['free to play', 'freetoplay', 'Install Now', 'Third-party', 'Free HITMAN™ Holiday Pack','Play the Demo','Free to Play','Free To Play','Free','Play for Free!','Free to Try','Free to Use','Free Demo','Play Now','Free Mod','Play WARMACHINE: Tactics Demo' ], 0)"
   ]
  },
  {
   "cell_type": "code",
   "execution_count": 222,
   "metadata": {},
   "outputs": [
    {
     "data": {
      "text/plain": [
       "price\n",
       "9.99      7658\n",
       "4.99      7642\n",
       "0.99      5349\n",
       "1.99      4851\n",
       "2.99      4785\n",
       "          ... \n",
       "99.00        1\n",
       "771.71       1\n",
       "27.99        1\n",
       "4.29         1\n",
       "202.76       1\n",
       "Name: count, Length: 128, dtype: int64"
      ]
     },
     "execution_count": 222,
     "metadata": {},
     "output_type": "execute_result"
    }
   ],
   "source": [
    "a = df_games['price'].value_counts()\n",
    "a\n"
   ]
  },
  {
   "cell_type": "code",
   "execution_count": 223,
   "metadata": {},
   "outputs": [],
   "source": [
    "df_games['price'] = df_games['price'].astype(float)"
   ]
  },
  {
   "cell_type": "code",
   "execution_count": 224,
   "metadata": {},
   "outputs": [
    {
     "data": {
      "text/html": [
       "<div>\n",
       "<style scoped>\n",
       "    .dataframe tbody tr th:only-of-type {\n",
       "        vertical-align: middle;\n",
       "    }\n",
       "\n",
       "    .dataframe tbody tr th {\n",
       "        vertical-align: top;\n",
       "    }\n",
       "\n",
       "    .dataframe thead th {\n",
       "        text-align: right;\n",
       "    }\n",
       "</style>\n",
       "<table border=\"1\" class=\"dataframe\">\n",
       "  <thead>\n",
       "    <tr style=\"text-align: right;\">\n",
       "      <th></th>\n",
       "      <th>publisher</th>\n",
       "      <th>genres</th>\n",
       "      <th>app_name</th>\n",
       "      <th>title</th>\n",
       "      <th>url</th>\n",
       "      <th>release_date</th>\n",
       "      <th>tags</th>\n",
       "      <th>reviews_url</th>\n",
       "      <th>specs</th>\n",
       "      <th>price</th>\n",
       "      <th>early_access</th>\n",
       "      <th>id</th>\n",
       "      <th>developer</th>\n",
       "      <th>release_date_anio</th>\n",
       "    </tr>\n",
       "  </thead>\n",
       "  <tbody>\n",
       "    <tr>\n",
       "      <th>88310</th>\n",
       "      <td>Kotoshiro</td>\n",
       "      <td>Action</td>\n",
       "      <td>Lost Summoner Kitty</td>\n",
       "      <td>Lost Summoner Kitty</td>\n",
       "      <td>http://store.steampowered.com/app/761140/Lost_...</td>\n",
       "      <td>2018-01-04</td>\n",
       "      <td>[Strategy, Action, Indie, Casual, Simulation]</td>\n",
       "      <td>http://steamcommunity.com/app/761140/reviews/?...</td>\n",
       "      <td>[Single-player]</td>\n",
       "      <td>4.99</td>\n",
       "      <td>False</td>\n",
       "      <td>761140</td>\n",
       "      <td>Kotoshiro</td>\n",
       "      <td>2018</td>\n",
       "    </tr>\n",
       "    <tr>\n",
       "      <th>88310</th>\n",
       "      <td>Kotoshiro</td>\n",
       "      <td>Casual</td>\n",
       "      <td>Lost Summoner Kitty</td>\n",
       "      <td>Lost Summoner Kitty</td>\n",
       "      <td>http://store.steampowered.com/app/761140/Lost_...</td>\n",
       "      <td>2018-01-04</td>\n",
       "      <td>[Strategy, Action, Indie, Casual, Simulation]</td>\n",
       "      <td>http://steamcommunity.com/app/761140/reviews/?...</td>\n",
       "      <td>[Single-player]</td>\n",
       "      <td>4.99</td>\n",
       "      <td>False</td>\n",
       "      <td>761140</td>\n",
       "      <td>Kotoshiro</td>\n",
       "      <td>2018</td>\n",
       "    </tr>\n",
       "    <tr>\n",
       "      <th>88310</th>\n",
       "      <td>Kotoshiro</td>\n",
       "      <td>Indie</td>\n",
       "      <td>Lost Summoner Kitty</td>\n",
       "      <td>Lost Summoner Kitty</td>\n",
       "      <td>http://store.steampowered.com/app/761140/Lost_...</td>\n",
       "      <td>2018-01-04</td>\n",
       "      <td>[Strategy, Action, Indie, Casual, Simulation]</td>\n",
       "      <td>http://steamcommunity.com/app/761140/reviews/?...</td>\n",
       "      <td>[Single-player]</td>\n",
       "      <td>4.99</td>\n",
       "      <td>False</td>\n",
       "      <td>761140</td>\n",
       "      <td>Kotoshiro</td>\n",
       "      <td>2018</td>\n",
       "    </tr>\n",
       "    <tr>\n",
       "      <th>88310</th>\n",
       "      <td>Kotoshiro</td>\n",
       "      <td>Simulation</td>\n",
       "      <td>Lost Summoner Kitty</td>\n",
       "      <td>Lost Summoner Kitty</td>\n",
       "      <td>http://store.steampowered.com/app/761140/Lost_...</td>\n",
       "      <td>2018-01-04</td>\n",
       "      <td>[Strategy, Action, Indie, Casual, Simulation]</td>\n",
       "      <td>http://steamcommunity.com/app/761140/reviews/?...</td>\n",
       "      <td>[Single-player]</td>\n",
       "      <td>4.99</td>\n",
       "      <td>False</td>\n",
       "      <td>761140</td>\n",
       "      <td>Kotoshiro</td>\n",
       "      <td>2018</td>\n",
       "    </tr>\n",
       "    <tr>\n",
       "      <th>88310</th>\n",
       "      <td>Kotoshiro</td>\n",
       "      <td>Strategy</td>\n",
       "      <td>Lost Summoner Kitty</td>\n",
       "      <td>Lost Summoner Kitty</td>\n",
       "      <td>http://store.steampowered.com/app/761140/Lost_...</td>\n",
       "      <td>2018-01-04</td>\n",
       "      <td>[Strategy, Action, Indie, Casual, Simulation]</td>\n",
       "      <td>http://steamcommunity.com/app/761140/reviews/?...</td>\n",
       "      <td>[Single-player]</td>\n",
       "      <td>4.99</td>\n",
       "      <td>False</td>\n",
       "      <td>761140</td>\n",
       "      <td>Kotoshiro</td>\n",
       "      <td>2018</td>\n",
       "    </tr>\n",
       "  </tbody>\n",
       "</table>\n",
       "</div>"
      ],
      "text/plain": [
       "       publisher      genres             app_name                title  \\\n",
       "88310  Kotoshiro      Action  Lost Summoner Kitty  Lost Summoner Kitty   \n",
       "88310  Kotoshiro      Casual  Lost Summoner Kitty  Lost Summoner Kitty   \n",
       "88310  Kotoshiro       Indie  Lost Summoner Kitty  Lost Summoner Kitty   \n",
       "88310  Kotoshiro  Simulation  Lost Summoner Kitty  Lost Summoner Kitty   \n",
       "88310  Kotoshiro    Strategy  Lost Summoner Kitty  Lost Summoner Kitty   \n",
       "\n",
       "                                                     url release_date  \\\n",
       "88310  http://store.steampowered.com/app/761140/Lost_...   2018-01-04   \n",
       "88310  http://store.steampowered.com/app/761140/Lost_...   2018-01-04   \n",
       "88310  http://store.steampowered.com/app/761140/Lost_...   2018-01-04   \n",
       "88310  http://store.steampowered.com/app/761140/Lost_...   2018-01-04   \n",
       "88310  http://store.steampowered.com/app/761140/Lost_...   2018-01-04   \n",
       "\n",
       "                                                tags  \\\n",
       "88310  [Strategy, Action, Indie, Casual, Simulation]   \n",
       "88310  [Strategy, Action, Indie, Casual, Simulation]   \n",
       "88310  [Strategy, Action, Indie, Casual, Simulation]   \n",
       "88310  [Strategy, Action, Indie, Casual, Simulation]   \n",
       "88310  [Strategy, Action, Indie, Casual, Simulation]   \n",
       "\n",
       "                                             reviews_url            specs  \\\n",
       "88310  http://steamcommunity.com/app/761140/reviews/?...  [Single-player]   \n",
       "88310  http://steamcommunity.com/app/761140/reviews/?...  [Single-player]   \n",
       "88310  http://steamcommunity.com/app/761140/reviews/?...  [Single-player]   \n",
       "88310  http://steamcommunity.com/app/761140/reviews/?...  [Single-player]   \n",
       "88310  http://steamcommunity.com/app/761140/reviews/?...  [Single-player]   \n",
       "\n",
       "       price early_access      id  developer release_date_anio  \n",
       "88310   4.99        False  761140  Kotoshiro              2018  \n",
       "88310   4.99        False  761140  Kotoshiro              2018  \n",
       "88310   4.99        False  761140  Kotoshiro              2018  \n",
       "88310   4.99        False  761140  Kotoshiro              2018  \n",
       "88310   4.99        False  761140  Kotoshiro              2018  "
      ]
     },
     "execution_count": 224,
     "metadata": {},
     "output_type": "execute_result"
    }
   ],
   "source": [
    "df_games.head(5)"
   ]
  },
  {
   "cell_type": "markdown",
   "metadata": {},
   "source": [
    "ITEMS"
   ]
  },
  {
   "cell_type": "markdown",
   "metadata": {},
   "source": [
    "Importamos y leemos el archivo australian_users_items.json"
   ]
  },
  {
   "cell_type": "code",
   "execution_count": 225,
   "metadata": {},
   "outputs": [],
   "source": [
    "ruta = \"australian_users_items.json\"\n",
    "\n",
    "filas = []\n",
    "\n",
    "with open(ruta, encoding='MacRoman') as file:\n",
    "    for line in file.readlines():\n",
    "        filas.append(ast.literal_eval(line))\n",
    "\n",
    "df_user_items = pd.DataFrame(filas)"
   ]
  },
  {
   "cell_type": "code",
   "execution_count": 226,
   "metadata": {},
   "outputs": [
    {
     "name": "stdout",
     "output_type": "stream",
     "text": [
      "<class 'pandas.core.frame.DataFrame'>\n",
      "RangeIndex: 88310 entries, 0 to 88309\n",
      "Data columns (total 5 columns):\n",
      " #   Column       Non-Null Count  Dtype \n",
      "---  ------       --------------  ----- \n",
      " 0   user_id      88310 non-null  object\n",
      " 1   items_count  88310 non-null  int64 \n",
      " 2   steam_id     88310 non-null  object\n",
      " 3   user_url     88310 non-null  object\n",
      " 4   items        88310 non-null  object\n",
      "dtypes: int64(1), object(4)\n",
      "memory usage: 3.4+ MB\n"
     ]
    }
   ],
   "source": [
    "df_user_items.info()"
   ]
  },
  {
   "cell_type": "code",
   "execution_count": 227,
   "metadata": {},
   "outputs": [
    {
     "data": {
      "text/html": [
       "<div>\n",
       "<style scoped>\n",
       "    .dataframe tbody tr th:only-of-type {\n",
       "        vertical-align: middle;\n",
       "    }\n",
       "\n",
       "    .dataframe tbody tr th {\n",
       "        vertical-align: top;\n",
       "    }\n",
       "\n",
       "    .dataframe thead th {\n",
       "        text-align: right;\n",
       "    }\n",
       "</style>\n",
       "<table border=\"1\" class=\"dataframe\">\n",
       "  <thead>\n",
       "    <tr style=\"text-align: right;\">\n",
       "      <th></th>\n",
       "      <th>user_id</th>\n",
       "      <th>items_count</th>\n",
       "      <th>steam_id</th>\n",
       "      <th>user_url</th>\n",
       "      <th>items</th>\n",
       "    </tr>\n",
       "  </thead>\n",
       "  <tbody>\n",
       "    <tr>\n",
       "      <th>0</th>\n",
       "      <td>76561197970982479</td>\n",
       "      <td>277</td>\n",
       "      <td>76561197970982479</td>\n",
       "      <td>http://steamcommunity.com/profiles/76561197970...</td>\n",
       "      <td>[{'item_id': '10', 'item_name': 'Counter-Strik...</td>\n",
       "    </tr>\n",
       "    <tr>\n",
       "      <th>1</th>\n",
       "      <td>js41637</td>\n",
       "      <td>888</td>\n",
       "      <td>76561198035864385</td>\n",
       "      <td>http://steamcommunity.com/id/js41637</td>\n",
       "      <td>[{'item_id': '10', 'item_name': 'Counter-Strik...</td>\n",
       "    </tr>\n",
       "    <tr>\n",
       "      <th>2</th>\n",
       "      <td>evcentric</td>\n",
       "      <td>137</td>\n",
       "      <td>76561198007712555</td>\n",
       "      <td>http://steamcommunity.com/id/evcentric</td>\n",
       "      <td>[{'item_id': '1200', 'item_name': 'Red Orchest...</td>\n",
       "    </tr>\n",
       "    <tr>\n",
       "      <th>3</th>\n",
       "      <td>Riot-Punch</td>\n",
       "      <td>328</td>\n",
       "      <td>76561197963445855</td>\n",
       "      <td>http://steamcommunity.com/id/Riot-Punch</td>\n",
       "      <td>[{'item_id': '10', 'item_name': 'Counter-Strik...</td>\n",
       "    </tr>\n",
       "    <tr>\n",
       "      <th>4</th>\n",
       "      <td>doctr</td>\n",
       "      <td>541</td>\n",
       "      <td>76561198002099482</td>\n",
       "      <td>http://steamcommunity.com/id/doctr</td>\n",
       "      <td>[{'item_id': '300', 'item_name': 'Day of Defea...</td>\n",
       "    </tr>\n",
       "    <tr>\n",
       "      <th>5</th>\n",
       "      <td>MinxIsBetterThanPotatoes</td>\n",
       "      <td>371</td>\n",
       "      <td>76561198004744620</td>\n",
       "      <td>http://steamcommunity.com/id/MinxIsBetterThanP...</td>\n",
       "      <td>[{'item_id': '50', 'item_name': 'Half-Life: Op...</td>\n",
       "    </tr>\n",
       "    <tr>\n",
       "      <th>6</th>\n",
       "      <td>NitemarePK</td>\n",
       "      <td>304</td>\n",
       "      <td>76561197990951820</td>\n",
       "      <td>http://steamcommunity.com/id/NitemarePK</td>\n",
       "      <td>[{'item_id': '240', 'item_name': 'Counter-Stri...</td>\n",
       "    </tr>\n",
       "    <tr>\n",
       "      <th>7</th>\n",
       "      <td>themanwich</td>\n",
       "      <td>258</td>\n",
       "      <td>76561198035296505</td>\n",
       "      <td>http://steamcommunity.com/id/themanwich</td>\n",
       "      <td>[{'item_id': '220', 'item_name': 'Half-Life 2'...</td>\n",
       "    </tr>\n",
       "    <tr>\n",
       "      <th>8</th>\n",
       "      <td>maplemage</td>\n",
       "      <td>629</td>\n",
       "      <td>76561198026584251</td>\n",
       "      <td>http://steamcommunity.com/id/maplemage</td>\n",
       "      <td>[{'item_id': '240', 'item_name': 'Counter-Stri...</td>\n",
       "    </tr>\n",
       "    <tr>\n",
       "      <th>9</th>\n",
       "      <td>Wackky</td>\n",
       "      <td>0</td>\n",
       "      <td>76561198039117046</td>\n",
       "      <td>http://steamcommunity.com/id/Wackky</td>\n",
       "      <td>[]</td>\n",
       "    </tr>\n",
       "  </tbody>\n",
       "</table>\n",
       "</div>"
      ],
      "text/plain": [
       "                    user_id  items_count           steam_id  \\\n",
       "0         76561197970982479          277  76561197970982479   \n",
       "1                   js41637          888  76561198035864385   \n",
       "2                 evcentric          137  76561198007712555   \n",
       "3                Riot-Punch          328  76561197963445855   \n",
       "4                     doctr          541  76561198002099482   \n",
       "5  MinxIsBetterThanPotatoes          371  76561198004744620   \n",
       "6                NitemarePK          304  76561197990951820   \n",
       "7                themanwich          258  76561198035296505   \n",
       "8                 maplemage          629  76561198026584251   \n",
       "9                    Wackky            0  76561198039117046   \n",
       "\n",
       "                                            user_url  \\\n",
       "0  http://steamcommunity.com/profiles/76561197970...   \n",
       "1               http://steamcommunity.com/id/js41637   \n",
       "2             http://steamcommunity.com/id/evcentric   \n",
       "3            http://steamcommunity.com/id/Riot-Punch   \n",
       "4                 http://steamcommunity.com/id/doctr   \n",
       "5  http://steamcommunity.com/id/MinxIsBetterThanP...   \n",
       "6            http://steamcommunity.com/id/NitemarePK   \n",
       "7            http://steamcommunity.com/id/themanwich   \n",
       "8             http://steamcommunity.com/id/maplemage   \n",
       "9                http://steamcommunity.com/id/Wackky   \n",
       "\n",
       "                                               items  \n",
       "0  [{'item_id': '10', 'item_name': 'Counter-Strik...  \n",
       "1  [{'item_id': '10', 'item_name': 'Counter-Strik...  \n",
       "2  [{'item_id': '1200', 'item_name': 'Red Orchest...  \n",
       "3  [{'item_id': '10', 'item_name': 'Counter-Strik...  \n",
       "4  [{'item_id': '300', 'item_name': 'Day of Defea...  \n",
       "5  [{'item_id': '50', 'item_name': 'Half-Life: Op...  \n",
       "6  [{'item_id': '240', 'item_name': 'Counter-Stri...  \n",
       "7  [{'item_id': '220', 'item_name': 'Half-Life 2'...  \n",
       "8  [{'item_id': '240', 'item_name': 'Counter-Stri...  \n",
       "9                                                 []  "
      ]
     },
     "execution_count": 227,
     "metadata": {},
     "output_type": "execute_result"
    }
   ],
   "source": [
    "df_user_items.head(10)"
   ]
  },
  {
   "cell_type": "markdown",
   "metadata": {},
   "source": [
    "Como podemos observar ítems esta anidado en listas de diccionarios"
   ]
  },
  {
   "cell_type": "code",
   "execution_count": 228,
   "metadata": {},
   "outputs": [
    {
     "data": {
      "text/plain": [
       "<bound method Series.keys of 0        [{'item_id': '10', 'item_name': 'Counter-Strik...\n",
       "1        [{'item_id': '10', 'item_name': 'Counter-Strik...\n",
       "2        [{'item_id': '1200', 'item_name': 'Red Orchest...\n",
       "3        [{'item_id': '10', 'item_name': 'Counter-Strik...\n",
       "4        [{'item_id': '300', 'item_name': 'Day of Defea...\n",
       "                               ...                        \n",
       "88305    [{'item_id': '413850', 'item_name': 'CS:GO Pla...\n",
       "88306    [{'item_id': '11020', 'item_name': 'TrackMania...\n",
       "88307                                                   []\n",
       "88308    [{'item_id': '304930', 'item_name': 'Unturned'...\n",
       "88309                                                   []\n",
       "Name: items, Length: 88310, dtype: object>"
      ]
     },
     "execution_count": 228,
     "metadata": {},
     "output_type": "execute_result"
    }
   ],
   "source": [
    "df_user_items['items'].keys"
   ]
  },
  {
   "cell_type": "code",
   "execution_count": 229,
   "metadata": {},
   "outputs": [],
   "source": [
    "lista = df_user_items['items']\n",
    "lista_items_id = []\n",
    "lista_items_name = []"
   ]
  },
  {
   "cell_type": "markdown",
   "metadata": {},
   "source": [
    "Hacemos un explode con el fin de acceder a las listas de la columna ítems y dejar únicamente los diccionarios"
   ]
  },
  {
   "cell_type": "code",
   "execution_count": 230,
   "metadata": {},
   "outputs": [],
   "source": [
    "df_user_items2 = df_user_items.explode('items')"
   ]
  },
  {
   "cell_type": "code",
   "execution_count": 231,
   "metadata": {},
   "outputs": [
    {
     "name": "stdout",
     "output_type": "stream",
     "text": [
      "<class 'pandas.core.frame.DataFrame'>\n",
      "Index: 5170015 entries, 0 to 88309\n",
      "Data columns (total 5 columns):\n",
      " #   Column       Dtype \n",
      "---  ------       ----- \n",
      " 0   user_id      object\n",
      " 1   items_count  int64 \n",
      " 2   steam_id     object\n",
      " 3   user_url     object\n",
      " 4   items        object\n",
      "dtypes: int64(1), object(4)\n",
      "memory usage: 236.7+ MB\n"
     ]
    }
   ],
   "source": [
    "df_user_items2.info()"
   ]
  },
  {
   "cell_type": "markdown",
   "metadata": {},
   "source": [
    "Luego del explode y tener los diccionarios listados por usuario, procedemos a hacer un drop na para eliminar los diccionarios vacíos que no son de utilidad"
   ]
  },
  {
   "cell_type": "code",
   "execution_count": 232,
   "metadata": {},
   "outputs": [],
   "source": [
    "df_user_items2.dropna(inplace=True)"
   ]
  },
  {
   "cell_type": "code",
   "execution_count": 233,
   "metadata": {},
   "outputs": [
    {
     "data": {
      "text/html": [
       "<div>\n",
       "<style scoped>\n",
       "    .dataframe tbody tr th:only-of-type {\n",
       "        vertical-align: middle;\n",
       "    }\n",
       "\n",
       "    .dataframe tbody tr th {\n",
       "        vertical-align: top;\n",
       "    }\n",
       "\n",
       "    .dataframe thead th {\n",
       "        text-align: right;\n",
       "    }\n",
       "</style>\n",
       "<table border=\"1\" class=\"dataframe\">\n",
       "  <thead>\n",
       "    <tr style=\"text-align: right;\">\n",
       "      <th></th>\n",
       "      <th>user_id</th>\n",
       "      <th>items_count</th>\n",
       "      <th>steam_id</th>\n",
       "      <th>user_url</th>\n",
       "      <th>items</th>\n",
       "    </tr>\n",
       "  </thead>\n",
       "  <tbody>\n",
       "    <tr>\n",
       "      <th>0</th>\n",
       "      <td>76561197970982479</td>\n",
       "      <td>277</td>\n",
       "      <td>76561197970982479</td>\n",
       "      <td>http://steamcommunity.com/profiles/76561197970...</td>\n",
       "      <td>{'item_id': '10', 'item_name': 'Counter-Strike...</td>\n",
       "    </tr>\n",
       "    <tr>\n",
       "      <th>0</th>\n",
       "      <td>76561197970982479</td>\n",
       "      <td>277</td>\n",
       "      <td>76561197970982479</td>\n",
       "      <td>http://steamcommunity.com/profiles/76561197970...</td>\n",
       "      <td>{'item_id': '20', 'item_name': 'Team Fortress ...</td>\n",
       "    </tr>\n",
       "    <tr>\n",
       "      <th>0</th>\n",
       "      <td>76561197970982479</td>\n",
       "      <td>277</td>\n",
       "      <td>76561197970982479</td>\n",
       "      <td>http://steamcommunity.com/profiles/76561197970...</td>\n",
       "      <td>{'item_id': '30', 'item_name': 'Day of Defeat'...</td>\n",
       "    </tr>\n",
       "    <tr>\n",
       "      <th>0</th>\n",
       "      <td>76561197970982479</td>\n",
       "      <td>277</td>\n",
       "      <td>76561197970982479</td>\n",
       "      <td>http://steamcommunity.com/profiles/76561197970...</td>\n",
       "      <td>{'item_id': '40', 'item_name': 'Deathmatch Cla...</td>\n",
       "    </tr>\n",
       "    <tr>\n",
       "      <th>0</th>\n",
       "      <td>76561197970982479</td>\n",
       "      <td>277</td>\n",
       "      <td>76561197970982479</td>\n",
       "      <td>http://steamcommunity.com/profiles/76561197970...</td>\n",
       "      <td>{'item_id': '50', 'item_name': 'Half-Life: Opp...</td>\n",
       "    </tr>\n",
       "  </tbody>\n",
       "</table>\n",
       "</div>"
      ],
      "text/plain": [
       "             user_id  items_count           steam_id  \\\n",
       "0  76561197970982479          277  76561197970982479   \n",
       "0  76561197970982479          277  76561197970982479   \n",
       "0  76561197970982479          277  76561197970982479   \n",
       "0  76561197970982479          277  76561197970982479   \n",
       "0  76561197970982479          277  76561197970982479   \n",
       "\n",
       "                                            user_url  \\\n",
       "0  http://steamcommunity.com/profiles/76561197970...   \n",
       "0  http://steamcommunity.com/profiles/76561197970...   \n",
       "0  http://steamcommunity.com/profiles/76561197970...   \n",
       "0  http://steamcommunity.com/profiles/76561197970...   \n",
       "0  http://steamcommunity.com/profiles/76561197970...   \n",
       "\n",
       "                                               items  \n",
       "0  {'item_id': '10', 'item_name': 'Counter-Strike...  \n",
       "0  {'item_id': '20', 'item_name': 'Team Fortress ...  \n",
       "0  {'item_id': '30', 'item_name': 'Day of Defeat'...  \n",
       "0  {'item_id': '40', 'item_name': 'Deathmatch Cla...  \n",
       "0  {'item_id': '50', 'item_name': 'Half-Life: Opp...  "
      ]
     },
     "execution_count": 233,
     "metadata": {},
     "output_type": "execute_result"
    }
   ],
   "source": [
    "df_user_items2.head(5)"
   ]
  },
  {
   "cell_type": "markdown",
   "metadata": {},
   "source": [
    "Creamos un dataframe de prueba para hacer el proceso de extracción de datos del diccionario"
   ]
  },
  {
   "cell_type": "code",
   "execution_count": 234,
   "metadata": {},
   "outputs": [],
   "source": [
    "dict = df_user_items2['items']\n",
    "user_id = []\n",
    "listaindex = []\n",
    "listadict = []\n",
    "\n",
    "for k, v in dict.items():\n",
    "    listadict.append(v)      "
   ]
  },
  {
   "cell_type": "code",
   "execution_count": 235,
   "metadata": {},
   "outputs": [],
   "source": [
    "dfprueba = pd.DataFrame()\n",
    "dfprueba['user_id'] = df_user_items2['user_id']\n",
    "dfprueba['dict'] = listadict"
   ]
  },
  {
   "cell_type": "code",
   "execution_count": 236,
   "metadata": {},
   "outputs": [
    {
     "name": "stdout",
     "output_type": "stream",
     "text": [
      "<class 'pandas.core.frame.DataFrame'>\n",
      "Index: 5153209 entries, 0 to 88308\n",
      "Data columns (total 2 columns):\n",
      " #   Column   Dtype \n",
      "---  ------   ----- \n",
      " 0   user_id  object\n",
      " 1   dict     object\n",
      "dtypes: object(2)\n",
      "memory usage: 117.9+ MB\n"
     ]
    }
   ],
   "source": [
    "dfprueba.info()"
   ]
  },
  {
   "cell_type": "code",
   "execution_count": 237,
   "metadata": {},
   "outputs": [
    {
     "data": {
      "text/html": [
       "<div>\n",
       "<style scoped>\n",
       "    .dataframe tbody tr th:only-of-type {\n",
       "        vertical-align: middle;\n",
       "    }\n",
       "\n",
       "    .dataframe tbody tr th {\n",
       "        vertical-align: top;\n",
       "    }\n",
       "\n",
       "    .dataframe thead th {\n",
       "        text-align: right;\n",
       "    }\n",
       "</style>\n",
       "<table border=\"1\" class=\"dataframe\">\n",
       "  <thead>\n",
       "    <tr style=\"text-align: right;\">\n",
       "      <th></th>\n",
       "      <th>user_id</th>\n",
       "      <th>dict</th>\n",
       "    </tr>\n",
       "  </thead>\n",
       "  <tbody>\n",
       "    <tr>\n",
       "      <th>0</th>\n",
       "      <td>76561197970982479</td>\n",
       "      <td>{'item_id': '10', 'item_name': 'Counter-Strike...</td>\n",
       "    </tr>\n",
       "    <tr>\n",
       "      <th>0</th>\n",
       "      <td>76561197970982479</td>\n",
       "      <td>{'item_id': '20', 'item_name': 'Team Fortress ...</td>\n",
       "    </tr>\n",
       "    <tr>\n",
       "      <th>0</th>\n",
       "      <td>76561197970982479</td>\n",
       "      <td>{'item_id': '30', 'item_name': 'Day of Defeat'...</td>\n",
       "    </tr>\n",
       "    <tr>\n",
       "      <th>0</th>\n",
       "      <td>76561197970982479</td>\n",
       "      <td>{'item_id': '40', 'item_name': 'Deathmatch Cla...</td>\n",
       "    </tr>\n",
       "    <tr>\n",
       "      <th>0</th>\n",
       "      <td>76561197970982479</td>\n",
       "      <td>{'item_id': '50', 'item_name': 'Half-Life: Opp...</td>\n",
       "    </tr>\n",
       "  </tbody>\n",
       "</table>\n",
       "</div>"
      ],
      "text/plain": [
       "             user_id                                               dict\n",
       "0  76561197970982479  {'item_id': '10', 'item_name': 'Counter-Strike...\n",
       "0  76561197970982479  {'item_id': '20', 'item_name': 'Team Fortress ...\n",
       "0  76561197970982479  {'item_id': '30', 'item_name': 'Day of Defeat'...\n",
       "0  76561197970982479  {'item_id': '40', 'item_name': 'Deathmatch Cla...\n",
       "0  76561197970982479  {'item_id': '50', 'item_name': 'Half-Life: Opp..."
      ]
     },
     "execution_count": 237,
     "metadata": {},
     "output_type": "execute_result"
    }
   ],
   "source": [
    "dfprueba.head(5)"
   ]
  },
  {
   "cell_type": "markdown",
   "metadata": {},
   "source": [
    "Recorremos cada diccionario y creamos listas para guardar los datos"
   ]
  },
  {
   "cell_type": "code",
   "execution_count": 238,
   "metadata": {},
   "outputs": [],
   "source": [
    "item_id2 = []\n",
    "item_name = []\n",
    "playtime_forever = [] \n",
    "playtime_2weeks = []\n",
    "\n",
    "for elemento in dfprueba['dict']:\n",
    "    for k, v in elemento.items():\n",
    "        if k == 'item_id':\n",
    "            item_id2.append(v)\n",
    "        if k == 'item_name':\n",
    "            item_name.append(v)\n",
    "        if k == 'playtime_forever':\n",
    "            playtime_forever.append(v)\n",
    "        if k == 'playtime_2weeks':\n",
    "            playtime_2weeks.append(v)"
   ]
  },
  {
   "cell_type": "markdown",
   "metadata": {},
   "source": [
    "Ingestamos los datos en nuevas columnas "
   ]
  },
  {
   "cell_type": "code",
   "execution_count": 239,
   "metadata": {},
   "outputs": [],
   "source": [
    "df_user_items2['item_id'] = item_id2\n",
    "df_user_items2['item_name'] = item_name\n",
    "df_user_items2['playtime_forever'] = playtime_forever\n",
    "df_user_items2['playtime_2weeks'] = playtime_2weeks"
   ]
  },
  {
   "cell_type": "code",
   "execution_count": 240,
   "metadata": {},
   "outputs": [
    {
     "name": "stdout",
     "output_type": "stream",
     "text": [
      "<class 'pandas.core.frame.DataFrame'>\n",
      "Index: 5153209 entries, 0 to 88308\n",
      "Data columns (total 9 columns):\n",
      " #   Column            Dtype \n",
      "---  ------            ----- \n",
      " 0   user_id           object\n",
      " 1   items_count       int64 \n",
      " 2   steam_id          object\n",
      " 3   user_url          object\n",
      " 4   items             object\n",
      " 5   item_id           object\n",
      " 6   item_name         object\n",
      " 7   playtime_forever  int64 \n",
      " 8   playtime_2weeks   int64 \n",
      "dtypes: int64(3), object(6)\n",
      "memory usage: 393.2+ MB\n"
     ]
    }
   ],
   "source": [
    "df_user_items2.info()"
   ]
  },
  {
   "cell_type": "markdown",
   "metadata": {},
   "source": [
    "Eliminamos la columna con diccionarios pues ya extrajimos la data"
   ]
  },
  {
   "cell_type": "code",
   "execution_count": 241,
   "metadata": {},
   "outputs": [],
   "source": [
    "df_user_items2.drop(columns='items', inplace=True)"
   ]
  },
  {
   "cell_type": "code",
   "execution_count": 242,
   "metadata": {},
   "outputs": [
    {
     "data": {
      "text/html": [
       "<div>\n",
       "<style scoped>\n",
       "    .dataframe tbody tr th:only-of-type {\n",
       "        vertical-align: middle;\n",
       "    }\n",
       "\n",
       "    .dataframe tbody tr th {\n",
       "        vertical-align: top;\n",
       "    }\n",
       "\n",
       "    .dataframe thead th {\n",
       "        text-align: right;\n",
       "    }\n",
       "</style>\n",
       "<table border=\"1\" class=\"dataframe\">\n",
       "  <thead>\n",
       "    <tr style=\"text-align: right;\">\n",
       "      <th></th>\n",
       "      <th>user_id</th>\n",
       "      <th>items_count</th>\n",
       "      <th>steam_id</th>\n",
       "      <th>user_url</th>\n",
       "      <th>item_id</th>\n",
       "      <th>item_name</th>\n",
       "      <th>playtime_forever</th>\n",
       "      <th>playtime_2weeks</th>\n",
       "    </tr>\n",
       "  </thead>\n",
       "  <tbody>\n",
       "    <tr>\n",
       "      <th>0</th>\n",
       "      <td>76561197970982479</td>\n",
       "      <td>277</td>\n",
       "      <td>76561197970982479</td>\n",
       "      <td>http://steamcommunity.com/profiles/76561197970...</td>\n",
       "      <td>10</td>\n",
       "      <td>Counter-Strike</td>\n",
       "      <td>6</td>\n",
       "      <td>0</td>\n",
       "    </tr>\n",
       "    <tr>\n",
       "      <th>0</th>\n",
       "      <td>76561197970982479</td>\n",
       "      <td>277</td>\n",
       "      <td>76561197970982479</td>\n",
       "      <td>http://steamcommunity.com/profiles/76561197970...</td>\n",
       "      <td>20</td>\n",
       "      <td>Team Fortress Classic</td>\n",
       "      <td>0</td>\n",
       "      <td>0</td>\n",
       "    </tr>\n",
       "    <tr>\n",
       "      <th>0</th>\n",
       "      <td>76561197970982479</td>\n",
       "      <td>277</td>\n",
       "      <td>76561197970982479</td>\n",
       "      <td>http://steamcommunity.com/profiles/76561197970...</td>\n",
       "      <td>30</td>\n",
       "      <td>Day of Defeat</td>\n",
       "      <td>7</td>\n",
       "      <td>0</td>\n",
       "    </tr>\n",
       "    <tr>\n",
       "      <th>0</th>\n",
       "      <td>76561197970982479</td>\n",
       "      <td>277</td>\n",
       "      <td>76561197970982479</td>\n",
       "      <td>http://steamcommunity.com/profiles/76561197970...</td>\n",
       "      <td>40</td>\n",
       "      <td>Deathmatch Classic</td>\n",
       "      <td>0</td>\n",
       "      <td>0</td>\n",
       "    </tr>\n",
       "    <tr>\n",
       "      <th>0</th>\n",
       "      <td>76561197970982479</td>\n",
       "      <td>277</td>\n",
       "      <td>76561197970982479</td>\n",
       "      <td>http://steamcommunity.com/profiles/76561197970...</td>\n",
       "      <td>50</td>\n",
       "      <td>Half-Life: Opposing Force</td>\n",
       "      <td>0</td>\n",
       "      <td>0</td>\n",
       "    </tr>\n",
       "  </tbody>\n",
       "</table>\n",
       "</div>"
      ],
      "text/plain": [
       "             user_id  items_count           steam_id  \\\n",
       "0  76561197970982479          277  76561197970982479   \n",
       "0  76561197970982479          277  76561197970982479   \n",
       "0  76561197970982479          277  76561197970982479   \n",
       "0  76561197970982479          277  76561197970982479   \n",
       "0  76561197970982479          277  76561197970982479   \n",
       "\n",
       "                                            user_url item_id  \\\n",
       "0  http://steamcommunity.com/profiles/76561197970...      10   \n",
       "0  http://steamcommunity.com/profiles/76561197970...      20   \n",
       "0  http://steamcommunity.com/profiles/76561197970...      30   \n",
       "0  http://steamcommunity.com/profiles/76561197970...      40   \n",
       "0  http://steamcommunity.com/profiles/76561197970...      50   \n",
       "\n",
       "                   item_name  playtime_forever  playtime_2weeks  \n",
       "0             Counter-Strike                 6                0  \n",
       "0      Team Fortress Classic                 0                0  \n",
       "0              Day of Defeat                 7                0  \n",
       "0         Deathmatch Classic                 0                0  \n",
       "0  Half-Life: Opposing Force                 0                0  "
      ]
     },
     "execution_count": 242,
     "metadata": {},
     "output_type": "execute_result"
    }
   ],
   "source": [
    "df_user_items2.head(5)"
   ]
  },
  {
   "cell_type": "markdown",
   "metadata": {},
   "source": [
    "Reemplazamos de acuerdo al nombre del título, buscando estandarizar y tener valores únicos"
   ]
  },
  {
   "cell_type": "code",
   "execution_count": 243,
   "metadata": {},
   "outputs": [],
   "source": [
    "df_user_items2['item_name'].replace(to_replace='Counter-Strike', value='Counter-Strike', inplace=True)\n",
    "df_user_items2['item_name'].replace(to_replace='COUNter-strike', value='Counter-Strike', inplace=True)\n",
    "df_user_items2['item_name'].replace(to_replace='COUNter-strike', value='Counter-Strike', inplace=True)\n",
    "df_user_items2['item_name'].replace(to_replace='half-life', value='Half-life', inplace=True)"
   ]
  },
  {
   "cell_type": "markdown",
   "metadata": {},
   "source": [
    "Revisamos que no haya valores atípicos en los nombres de los juegos"
   ]
  },
  {
   "cell_type": "code",
   "execution_count": 244,
   "metadata": {},
   "outputs": [
    {
     "name": "stdout",
     "output_type": "stream",
     "text": [
      "item_name\n",
      "Arachnophobia                           1\n",
      "Pixel: ru¬≤                             1\n",
      "Orbital Strike: Arena                   1\n",
      "Trigonarium                             1\n",
      "Typing Instructor Platinum 21           1\n",
      "                                    ...  \n",
      "Left 4 Dead 2                       37044\n",
      "Unturned                            38682\n",
      "Garry's Mod                         43301\n",
      "Counter-Strike: Global Offensive    43776\n",
      "Dota 2 Test                         49571\n",
      "Name: count, Length: 10947, dtype: int64\n"
     ]
    }
   ],
   "source": [
    "resultado = df_user_items2['item_name'].value_counts().sort_values()\n",
    "print(resultado)"
   ]
  },
  {
   "cell_type": "markdown",
   "metadata": {},
   "source": [
    "Eliminamos las columnas steam id, user url y playtime 2 weeks pues no nos serán útiles para nuestro trabajo"
   ]
  },
  {
   "cell_type": "code",
   "execution_count": 245,
   "metadata": {},
   "outputs": [],
   "source": [
    "df_user_items2 = df_user_items2.drop(columns=['steam_id','item_name', 'playtime_2weeks'])\n"
   ]
  },
  {
   "cell_type": "code",
   "execution_count": 246,
   "metadata": {},
   "outputs": [
    {
     "name": "stdout",
     "output_type": "stream",
     "text": [
      "<class 'pandas.core.frame.DataFrame'>\n",
      "Index: 5153209 entries, 0 to 88308\n",
      "Data columns (total 5 columns):\n",
      " #   Column            Dtype \n",
      "---  ------            ----- \n",
      " 0   user_id           object\n",
      " 1   items_count       int64 \n",
      " 2   user_url          object\n",
      " 3   item_id           object\n",
      " 4   playtime_forever  int64 \n",
      "dtypes: int64(2), object(3)\n",
      "memory usage: 235.9+ MB\n"
     ]
    }
   ],
   "source": [
    "df_user_items2.info()"
   ]
  },
  {
   "cell_type": "markdown",
   "metadata": {},
   "source": [
    "Buscando optimizar las funciones, para la funcion genre, depuraremos el archivo items dejando unicamente las columnas que toma la funcion"
   ]
  },
  {
   "cell_type": "code",
   "execution_count": 260,
   "metadata": {},
   "outputs": [],
   "source": [
    "df_items_genre = df_user_items2[['item_id', 'playtime_forever']]\n",
    "df_items_genre.to_csv('df_items_genre.csv', index=False)"
   ]
  },
  {
   "cell_type": "code",
   "execution_count": 261,
   "metadata": {},
   "outputs": [],
   "source": [
    "df_items_userforgenre = df_user_items2[['item_id', 'playtime_forever','user_id']]\n",
    "df_items_userforgenre.to_csv('df_items_userforgenre.csv', index=False)"
   ]
  },
  {
   "cell_type": "code",
   "execution_count": 262,
   "metadata": {},
   "outputs": [],
   "source": [
    "df_games_userforgente = df_games[['id', 'genres']]\n",
    "df_games_userforgente.to_csv('df_games_userforgente.csv', index=False)"
   ]
  },
  {
   "cell_type": "markdown",
   "metadata": {},
   "source": [
    "Buscando optimizar las funciones, para la user_id, depuraremos el archivo items dejando unicamente las columnas que toma la funcion"
   ]
  },
  {
   "cell_type": "code",
   "execution_count": 263,
   "metadata": {},
   "outputs": [],
   "source": [
    "df_items_userid = df_user_items2[['items_count', 'item_id','user_id']]\n",
    "df_items_userid.to_csv('df_items_userid.csv', index=False)"
   ]
  },
  {
   "cell_type": "code",
   "execution_count": 268,
   "metadata": {},
   "outputs": [],
   "source": [
    "df_games_userid = df_games[['id','price']]\n",
    "df_games_userid.to_csv('df_games_userid.csv', index=False)\n"
   ]
  },
  {
   "cell_type": "code",
   "execution_count": 269,
   "metadata": {},
   "outputs": [],
   "source": [
    "df_reviews_userid = df_reviews2[['user_id','recommend']]\n",
    "df_reviews_userid.to_csv('df_reviews_userid.csv', index=False)"
   ]
  },
  {
   "cell_type": "markdown",
   "metadata": {},
   "source": [
    "Depuración archivo para función developer"
   ]
  },
  {
   "cell_type": "code",
   "execution_count": 270,
   "metadata": {},
   "outputs": [],
   "source": [
    "df_games_developer = df_games[['price','developer','id','release_date_anio']]\n",
    "df_games_developer.to_csv('df_games_developer.csv', index=False)"
   ]
  },
  {
   "cell_type": "markdown",
   "metadata": {},
   "source": [
    "Ahora vamos a depurar y generar arhivo para la funcion countreviews"
   ]
  },
  {
   "cell_type": "code",
   "execution_count": 271,
   "metadata": {},
   "outputs": [],
   "source": [
    "df_reviews_countreviews = df_reviews2.copy()\n",
    "df_reviews_countreviews = df_reviews_countreviews[['posted','user_id','recommend']]\n",
    "df_reviews_countreviews.to_csv('df_reviews_countreviews.csv', index=False)\n"
   ]
  },
  {
   "cell_type": "markdown",
   "metadata": {},
   "source": [
    "Ahora vamos a depurar y generar arhivo para la funcion genres con el dataframe games"
   ]
  },
  {
   "cell_type": "code",
   "execution_count": 272,
   "metadata": {},
   "outputs": [],
   "source": [
    "df_games_genre = df_games.copy()\n",
    "df_games_genre = df_games_genre[['id','genres']]\n",
    "df_games_genre.to_csv('df_games_genre.csv', index=False)"
   ]
  },
  {
   "cell_type": "markdown",
   "metadata": {},
   "source": [
    "Vamos ahora a depurar el archivo games para la funcion de sentiment analysis"
   ]
  },
  {
   "cell_type": "code",
   "execution_count": 273,
   "metadata": {},
   "outputs": [],
   "source": [
    "df_games_sentiment = df_games.copy()\n",
    "df_games_sentiment = df_games_sentiment[['id','release_date_anio']]\n",
    "df_games_sentiment.to_csv('df_games_sentiment.csv', index=False)"
   ]
  },
  {
   "cell_type": "markdown",
   "metadata": {},
   "source": [
    "Archivo para función genre depurado:"
   ]
  },
  {
   "cell_type": "code",
   "execution_count": 275,
   "metadata": {},
   "outputs": [],
   "source": [
    "df_items_userforgenre = pd.read_csv(r'df_items_userforgenre.csv')\n",
    "df_items_userforgenre = df_items_userforgenre.sample(frac=0.2, random_state=42)\n",
    "df_items_userforgenre.to_csv('df_items_userforgenre.csv')"
   ]
  },
  {
   "cell_type": "code",
   "execution_count": 284,
   "metadata": {},
   "outputs": [],
   "source": [
    "games_gen = pd.read_csv(r'df_games_genre.csv')\n",
    "items = pd.read_csv(r'df_items_genre.csv')\n",
    "games_gen.drop_duplicates(subset=['id'], inplace=True) # Elimina los juegos repetidos, para al hacer match entre ambos datasets no duplicar\n",
    "df_game_time = items[['item_id','playtime_forever']] # Solo trae estas dos columnas que son las necesarias para el codigo.\n",
    "df_agrupado = df_game_time.groupby('item_id')['playtime_forever'].sum() # agrupa por juego el total jugado.\n",
    "merged = pd.merge(games_gen, df_agrupado, left_on='id', right_on='item_id', how='left') # Hago el merge\n",
    "merged.dropna(subset=['playtime_forever'], inplace=True)\n",
    "merged.to_csv('merged_genres.csv', index=False)"
   ]
  },
  {
   "cell_type": "markdown",
   "metadata": {},
   "source": [
    "Creamos un archivo CSV con cada uno de los dataframe trabajados y ya depurados"
   ]
  },
  {
   "cell_type": "code",
   "execution_count": 283,
   "metadata": {},
   "outputs": [],
   "source": [
    "df_reviews_userid.to_csv('df_reviews_userid.csv', index=False)\n",
    "df_games_userforgente.to_csv('df_games_userforgente.csv', index=False)\n",
    "df_games_userid.to_csv('df_games_userid.csv', index=False)\n",
    "df_reviews_countreviews.to_csv('df_reviews_countreviews.csv', index=False)\n",
    "df_games_developer.to_csv(\"df_games_developer.csv\", index = False)\n",
    "df_games_sentiment.to_csv('df_games_sentiment.csv', index=False)\n",
    "df_reviews2.to_csv('reviews.csv', index = False)\n",
    "df_games.to_csv('games.csv', index=False)\n",
    "df_reviews2.to_csv('reviews.csv', index=False)\n"
   ]
  },
  {
   "cell_type": "markdown",
   "metadata": {},
   "source": [
    "Ahora hago lo mismo para la función user_data"
   ]
  },
  {
   "cell_type": "code",
   "execution_count": 281,
   "metadata": {},
   "outputs": [],
   "source": [
    "df_items_user_sample = pd.read_csv(r'df_items_userid.csv')\n",
    "df_items_user_sample = df_items_user_sample.sample(frac=0.10, random_state=42)\n",
    "df_items_user_sample.to_csv('df_items_user_sample.csv')"
   ]
  },
  {
   "cell_type": "markdown",
   "metadata": {},
   "source": [
    "Para poder ejecutar el modelo de recomendacion, insertamos un valor vacio en columnas con na, seleccionamos unicamente los generos con mas relevancia en el dataframe y  hacemos una muestra:"
   ]
  },
  {
   "cell_type": "code",
   "execution_count": 282,
   "metadata": {},
   "outputs": [],
   "source": [
    "df_modelo_recomendacion = pd.read_csv(r'games.csv')\n",
    "df_modelo_recomendacion = df_modelo_recomendacion[['publisher', 'genres', 'id', 'app_name']]\n",
    "df_modelo_recomendacion.dropna(inplace=True)\n",
    "df_modelo_recomendacion= df_modelo_recomendacion[df_modelo_recomendacion['genres'] != 'Free to Play']\n",
    "df_modelo_recomendacion= df_modelo_recomendacion[df_modelo_recomendacion['genres'] != 'Early Access']\n",
    "df_modelo_recomendacion= df_modelo_recomendacion[df_modelo_recomendacion['genres'] != 'Sports']\n",
    "df_modelo_recomendacion= df_modelo_recomendacion[df_modelo_recomendacion['genres'] != 'Racing']\n",
    "df_modelo_recomendacion= df_modelo_recomendacion[df_modelo_recomendacion['genres'] != 'Massively Multiplayer']\n",
    "df_modelo_recomendacion= df_modelo_recomendacion[df_modelo_recomendacion['genres'] != 'Design &amp; Illustration']\n",
    "df_modelo_recomendacion= df_modelo_recomendacion[df_modelo_recomendacion['genres'] != 'Utilities']\n",
    "df_modelo_recomendacion= df_modelo_recomendacion[df_modelo_recomendacion['genres'] != 'Web Publishing']\n",
    "df_modelo_recomendacion= df_modelo_recomendacion[df_modelo_recomendacion['genres'] != 'Animation &amp; Modeling']\n",
    "df_modelo_recomendacion= df_modelo_recomendacion[df_modelo_recomendacion['genres'] != 'Education']\n",
    "df_modelo_recomendacion= df_modelo_recomendacion[df_modelo_recomendacion['genres'] != 'Software Training']\n",
    "df_modelo_recomendacion= df_modelo_recomendacion[df_modelo_recomendacion['genres'] != 'Audio Production']\n",
    "df_modelo_recomendacion= df_modelo_recomendacion[df_modelo_recomendacion['genres'] != 'Video Production']\n",
    "df_modelo_recomendacion= df_modelo_recomendacion[df_modelo_recomendacion['genres'] != 'Photo Editing']\n",
    "df_modelo_recomendacion= df_modelo_recomendacion[df_modelo_recomendacion['genres'] != 'Accounting']\n",
    "df_modelo_recomendacion = df_modelo_recomendacion.sample(frac=0.12, random_state=42)\n",
    "df_modelo_recomendacion.to_csv('df_modelo_recomendacion.csv', index=False)"
   ]
  }
 ],
 "metadata": {
  "kernelspec": {
   "display_name": "Python 3",
   "language": "python",
   "name": "python3"
  },
  "language_info": {
   "codemirror_mode": {
    "name": "ipython",
    "version": 3
   },
   "file_extension": ".py",
   "mimetype": "text/x-python",
   "name": "python",
   "nbconvert_exporter": "python",
   "pygments_lexer": "ipython3",
   "version": "3.11.4"
  },
  "orig_nbformat": 4
 },
 "nbformat": 4,
 "nbformat_minor": 2
}
