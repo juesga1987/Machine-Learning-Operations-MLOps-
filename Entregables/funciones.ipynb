{
 "cells": [
  {
   "cell_type": "code",
   "execution_count": 1,
   "metadata": {},
   "outputs": [],
   "source": [
    "import pandas as pd\n",
    "import numpy as np\n",
    "from datetime import date, datetime as dt\n"
   ]
  },
  {
   "cell_type": "markdown",
   "metadata": {},
   "source": [
    "def userdata( User_id : str ): Debe devolver cantidad de dinero gastado por el usuario, el porcentaje de recomendación en base a reviews.recommend y cantidad de items. Cantidad de resenas totales independientemente si son True o false y los juegos totales."
   ]
  },
  {
   "cell_type": "code",
   "execution_count": 2,
   "metadata": {},
   "outputs": [
    {
     "data": {
      "text/plain": [
       "{'Gasto': 14.99, 'Recomendacion': 5.0}"
      ]
     },
     "execution_count": 2,
     "metadata": {},
     "output_type": "execute_result"
    }
   ],
   "source": [
    "def userdata( User_id : str ):\n",
    "    df_usu_games = pd.read_csv(r'df_games_userid.csv')\n",
    "    items_usu_games = pd.read_csv(r'df_items_user_sample.csv')\n",
    "    reviews_usu_games = pd.read_csv(r'df_reviews_userid.csv')\n",
    "    \n",
    "    games_usu = items_usu_games[items_usu_games['user_id'] == User_id]['item_id'] # Se lista la cantidad de juegos por usuario\n",
    "    #gaames_usu = games_usu.astype(int)\n",
    "    games_usu = games_usu.tolist() # Se crea una lista para recorrer con los id de los juegos filtrados por usuario\n",
    "\n",
    "    # funcion para sumar el gasto\n",
    "\n",
    "    prices = []\n",
    "    for elemento in games_usu:\n",
    "        if df_usu_games[df_usu_games['id'] == (elemento)]['price'].to_list() == []:\n",
    "            pass\n",
    "        else:\n",
    "            prices.append(df_usu_games[df_usu_games['id'] == (elemento)]['price'].to_list()[0])\n",
    "\n",
    "    suma = sum(prices)\n",
    "\n",
    "\n",
    "    juegos_totales = items_usu_games.loc[items_usu_games['user_id'] == User_id, 'items_count'].tolist()[0]\n",
    "    recomendaciones_f = reviews_usu_games[reviews_usu_games['user_id'] == User_id]['recommend'].tolist()\n",
    "    recomendations = sum(recomendaciones_f)\n",
    "\n",
    "    recomend = round((recomendations/juegos_totales)*100,2)\n",
    "    \n",
    "    diccionario = { 'Gasto': suma,\n",
    "                   'Recomendacion' : recomend}\n",
    "\n",
    "    return diccionario\n",
    "\n",
    "        \n",
    "userdata('76561198251004808')"
   ]
  },
  {
   "cell_type": "markdown",
   "metadata": {},
   "source": [
    "def countreviews( YYYY-MM-DD y YYYY-MM-DD : str ): Cantidad de usuarios que realizaron reviews entre las fechas dadas y, el porcentaje de recomendación de los mismos en base a reviews.recommend."
   ]
  },
  {
   "cell_type": "code",
   "execution_count": 3,
   "metadata": {},
   "outputs": [
    {
     "data": {
      "text/plain": [
       "{'Usuarios_rango': 10951, 'recomendacion %': '85.52%'}"
      ]
     },
     "execution_count": 3,
     "metadata": {},
     "output_type": "execute_result"
    }
   ],
   "source": [
    "def countreviews(fecha_inicial, fecha_final):\n",
    "    reviews_countreviews = pd.read_csv(r'df_reviews_countreviews.csv')\n",
    "    lista_fechas = []\n",
    "    lista_usuarios_unico = []\n",
    "    inicial = dt.strptime(fecha_inicial, '%Y-%m-%d').date()\n",
    "    final = dt.strptime(fecha_final, '%Y-%m-%d').date()\n",
    "\n",
    "    for ind, elemento in enumerate(reviews_countreviews['posted']):\n",
    "        elemento_fecha = dt.strptime(elemento, '%Y-%m-%d').date() \n",
    "        if inicial <= elemento_fecha <= final:\n",
    "            lista_fechas.append(elemento_fecha)\n",
    "            a = reviews_countreviews['user_id'][ind]\n",
    "            if a not in lista_usuarios_unico:\n",
    "                lista_usuarios_unico.append(a)\n",
    "\n",
    "    cuenta_usuarios = len(lista_usuarios_unico)\n",
    "\n",
    "# Hago nuevamente el codigo pero sin considererar si el usuario ya estaba en la lista, esto permite saber cuantas veces hizo reviews en total\n",
    "    lista_usuarios = []\n",
    "    lista_fila = []\n",
    "    numero_fila = 0\n",
    "    for ind, elemento in enumerate(reviews_countreviews['posted']):\n",
    "        elemento_fecha = dt.strptime(elemento, '%Y-%m-%d').date() \n",
    "        if inicial <= elemento_fecha <= final:\n",
    "            a = reviews_countreviews['user_id'][ind] # Indica el user id dentro del rango de fechas\n",
    "            lista_usuarios.append(a) # Lista para guardar los Id's y posteriormente saber cuantos usuarios hay (Dado que el numero de usuarios es igual al de recomendaciones se usa como denominaror)\n",
    "            numero_fila = ind\n",
    "            lista_fila.append(numero_fila) # Esta lista de filas se usa posteriormente para saber cuantas recomendaciones fueron positivas\n",
    "    \n",
    "    b = 0\n",
    "    for elemento in lista_fila:\n",
    "        if reviews_countreviews['recommend'][elemento] == True:\n",
    "            b += 1 # Numero de recomendaciones positivas\n",
    "\n",
    "    recomendacion = round(b/len(lista_fila)*100,2)\n",
    "    \n",
    "    return {'Usuarios_rango' : cuenta_usuarios, \n",
    "            'recomendacion %' : f\"{recomendacion:.2f}%\"\n",
    "            }\n",
    "\n",
    "\n",
    "\n",
    "countreviews('2015-01-01', '2015-12-31')"
   ]
  },
  {
   "cell_type": "markdown",
   "metadata": {},
   "source": [
    "def genre( género : str ): Devuelve el puesto en el que se encuentra un género sobre el ranking de los mismos analizado bajo la columna PlayTimeForever."
   ]
  },
  {
   "cell_type": "code",
   "execution_count": 4,
   "metadata": {},
   "outputs": [
    {
     "data": {
      "text/plain": [
       "{'Genero': 'Casual', 'Ranking': 7.0}"
      ]
     },
     "execution_count": 4,
     "metadata": {},
     "output_type": "execute_result"
    }
   ],
   "source": [
    "def genre( género : str ):\n",
    "\n",
    "    merged = pd.read_csv(r'merged_genres.csv')\n",
    "    # lista de generos\n",
    "    generos = merged['genres'].unique()\n",
    "\n",
    "    # defino funcion para calcular el total jugado por genero\n",
    "    listacalc = []\n",
    "    def tiempo_genero(lista):\n",
    "        listacalc = []\n",
    "        for elemento in lista:\n",
    "            calculo = merged.loc[merged['genres'] == str(elemento), 'playtime_forever'].sum()\n",
    "            listacalc.append(calculo)\n",
    "        return listacalc\n",
    "\n",
    "    a = tiempo_genero(generos)\n",
    "    \n",
    "    # creo un dataframe con las dos listas generadas\n",
    "\n",
    "    datos = {\n",
    "        'generos' : generos,\n",
    "        'tiempo_juego': a\n",
    "         }\n",
    "\n",
    "    df = pd.DataFrame(datos)\n",
    "\n",
    "    # Creo una columna con el ranking\n",
    "\n",
    "    df['ranking'] = df['tiempo_juego'].rank(ascending=False)\n",
    "\n",
    "    condicion = str(género)\n",
    "    ranking = df.loc[df['generos'] == str(género), 'ranking'].values[0]\n",
    "\n",
    "\n",
    "    diccionario = { 'Genero': condicion,\n",
    "                   'Ranking': ranking\n",
    "    }\n",
    "    return diccionario\n",
    "\n",
    "genre('Casual')\n",
    "    \n"
   ]
  },
  {
   "cell_type": "markdown",
   "metadata": {},
   "source": [
    "def userforgenre( género : str ): Top 5 de usuarios con más horas de juego en el género dado, con su URL (del user) y user_id."
   ]
  },
  {
   "cell_type": "code",
   "execution_count": 5,
   "metadata": {},
   "outputs": [
    {
     "data": {
      "text/plain": [
       "{'Resultado': [['76561197977470391',\n",
       "   'http://steamcommunity.com/id/76561197977470391',\n",
       "   8478.416666666666],\n",
       "  ['laumir', 'http://steamcommunity.com/id/laumir', 7132.8],\n",
       "  ['ILDHAM123', 'http://steamcommunity.com/id/ILDHAM123', 6443.166666666667],\n",
       "  ['LapFucksTrax', 'http://steamcommunity.com/id/LapFucksTrax', 5765.85],\n",
       "  ['76561197984830126',\n",
       "   'http://steamcommunity.com/id/76561197984830126',\n",
       "   5601.983333333334]]}"
      ]
     },
     "execution_count": 5,
     "metadata": {},
     "output_type": "execute_result"
    }
   ],
   "source": [
    "def userforgenre(género: str):\n",
    "    games_gen2 = pd.read_csv(r'df_games_userforgente.csv')\n",
    "    items = pd.read_csv(r\"df_items_userforgenre.csv\")\n",
    "    #games_gen2['id'] = games_gen2['id'].astype(str)\n",
    "    genero = items.merge(games_gen2, left_on='item_id', right_on='id')\n",
    "    genero = genero[genero['genres'] == género]\n",
    "    user_time = genero.groupby('user_id')['playtime_forever'].sum()\n",
    "    usuarios_top = user_time.sort_values(ascending=False).head(5)\n",
    "    ranking = []\n",
    "    for user_id, horas in usuarios_top.items():\n",
    "        usuario = items[items['user_id'] == user_id].iloc[0]\n",
    "        ranking.append([usuario['user_id'], f\"http://steamcommunity.com/id/{usuario['user_id']}\",horas/60])\n",
    "    return { 'Resultado': ranking\n",
    "                }\n",
    "\n",
    "userforgenre('Action')"
   ]
  },
  {
   "cell_type": "markdown",
   "metadata": {},
   "source": [
    "def developer( desarrollador : str ): Cantidad de items y porcentaje de contenido Free por año según empresa desarrolladora. Ejemplo de salida:\n",
    "Activision\t\n",
    "Año\tContenido Free\n",
    "2023\t27%\n",
    "2022\t25%\n",
    "xxxx\txx%"
   ]
  },
  {
   "cell_type": "code",
   "execution_count": 6,
   "metadata": {},
   "outputs": [
    {
     "data": {
      "text/plain": [
       "{'Desarrollador': 'Valve',\n",
       " 'Tabla':    release_date_anio porcentaje_free\n",
       " 0               1998           0.00%\n",
       " 1               1999           0.00%\n",
       " 2               2000           0.00%\n",
       " 3               2001           0.00%\n",
       " 4               2003           0.00%\n",
       " 5               2004           0.00%\n",
       " 6               2006           0.00%\n",
       " 7               2007          50.00%\n",
       " 8               2008           0.00%\n",
       " 9               2009           0.00%\n",
       " 10              2010          50.00%\n",
       " 11              2011           0.00%\n",
       " 12              2012           0.00%\n",
       " 13              2017           0.00%}"
      ]
     },
     "execution_count": 6,
     "metadata": {},
     "output_type": "execute_result"
    }
   ],
   "source": [
    "def developer( desarrollador : str ):\n",
    "    games_dev = pd.read_csv(r'df_games_developer.csv')\n",
    "    pd.set_option('display.float_format', '{:.2f}'.format) # Seteo para permitir mostrar numeros muy grandes\n",
    "\n",
    "# columna free not free para luego sacar el % con base en la cantidad de juegos (items) por desarrollador, no se hace con item count pues este se refiere a los items por usuario y no por desarrollador\n",
    "    games_dev['free_notfree'] = np.where(games_dev['price'] == 0,  True,  False)\n",
    "# Filtro para aplicar la funcion cuando se de el developer\n",
    "    developerdf = games_dev.loc[games_dev['developer'] == str(desarrollador)]\n",
    "# conteo de cantidades de juegos(items) y free items por desarrollados\n",
    "\n",
    "    cantidad_juegos_anio = developerdf.groupby('release_date_anio')['id'].count().reset_index()\n",
    "    cantidad_juegos_anio.rename(columns={'id': 'cantidad_items'}, inplace=True)\n",
    "# Conteo de la cantidad de juegos gratuitos (items) por año\n",
    "    cantidad_free_anio = developerdf[developerdf['free_notfree']].groupby('release_date_anio')['free_notfree'].count().reset_index()\n",
    "    cantidad_free_anio.rename(columns={'free_notfree': 'cantidad_free'}, inplace=True)\n",
    "# Combino los resultados\n",
    "    resultado_final = pd.merge(cantidad_juegos_anio, cantidad_free_anio, on='release_date_anio', how='outer')\n",
    "# Rellenar valores NaN con 0 en la columna 'cantidad_free'\n",
    "    resultado_final['cantidad_free'].fillna(0, inplace=True)\n",
    "# Calcular el porcentaje de juegos gratuitos (items) por año\n",
    "    resultado_final['porcentaje_free'] = (resultado_final['cantidad_free'] / resultado_final['cantidad_items']) * 100\n",
    "# Formatear la columna 'porcentaje_free' con el símbolo de porcentaje (%)\n",
    "    resultado_final['porcentaje_free'] = resultado_final['porcentaje_free'].apply(lambda x: f\"{x:.2f}%\")\n",
    "    resultado_final['release_date_anio'] = resultado_final['release_date_anio'].apply(lambda x: f\"{x:.0f}\")\n",
    "# Dejo solo las columnas para el return\n",
    "    df_final = resultado_final[['release_date_anio','porcentaje_free']]    \n",
    "\n",
    "\n",
    "    diccionario = {\n",
    "        'Desarrollador': desarrollador,\n",
    "        'Tabla': df_final[['release_date_anio','porcentaje_free']]\n",
    "    }\n",
    "    return diccionario\n",
    "\n",
    "developer('Valve')"
   ]
  },
  {
   "cell_type": "markdown",
   "metadata": {},
   "source": [
    "def sentiment_analysis( año : int ): Según el año de lanzamiento, se devuelve una lista con la cantidad de registros de reseñas de usuarios que se encuentren categorizados con un análisis de sentimiento.\n",
    "\n",
    "                    Ejemplo de retorno: {Negative = 182, Neutral = 120, Positive = 278}"
   ]
  },
  {
   "cell_type": "code",
   "execution_count": 7,
   "metadata": {},
   "outputs": [
    {
     "data": {
      "text/plain": [
       "{'Positive': 1954, 'Negative': 452, 'Neutral': 4}"
      ]
     },
     "execution_count": 7,
     "metadata": {},
     "output_type": "execute_result"
    }
   ],
   "source": [
    "def sentiment_analysis(year: int):\n",
    "    merged = pd.read_csv(r'merged_recomendacion.csv')\n",
    "    merged['release_date_anio'] = merged['release_date_anio'].astype(int)\n",
    "\n",
    "\n",
    "    year = int(year)\n",
    "    df_sa = merged.copy()\n",
    "    df_sa['anio'] = df_sa['release_date_anio']\n",
    "    anio_data = df_sa[df_sa['anio'] == year]\n",
    "    mapeo = {0: 'Negative', 1: 'Neutral', 2: 'Positive'}\n",
    "    sentiment = anio_data['sentiment'].map(mapeo).value_counts().to_dict()\n",
    "    return sentiment\n",
    "\n",
    "sentiment_analysis(2010)"
   ]
  }
 ],
 "metadata": {
  "kernelspec": {
   "display_name": "Python 3",
   "language": "python",
   "name": "python3"
  },
  "language_info": {
   "codemirror_mode": {
    "name": "ipython",
    "version": 3
   },
   "file_extension": ".py",
   "mimetype": "text/x-python",
   "name": "python",
   "nbconvert_exporter": "python",
   "pygments_lexer": "ipython3",
   "version": "3.11.4"
  },
  "orig_nbformat": 4
 },
 "nbformat": 4,
 "nbformat_minor": 2
}
