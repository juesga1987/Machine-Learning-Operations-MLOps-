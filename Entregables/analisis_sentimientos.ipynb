{
 "cells": [
  {
   "cell_type": "markdown",
   "metadata": {},
   "source": [
    "# MODELO DE ANALISIS DE SENTIMIENTOS - MACHINE LEARNING"
   ]
  },
  {
   "cell_type": "markdown",
   "metadata": {},
   "source": [
    "Importamos las librerias"
   ]
  },
  {
   "cell_type": "code",
   "execution_count": 62,
   "metadata": {},
   "outputs": [
    {
     "name": "stderr",
     "output_type": "stream",
     "text": [
      "[nltk_data] Downloading package punkt to\n",
      "[nltk_data]     C:\\Users\\juesg\\AppData\\Roaming\\nltk_data...\n",
      "[nltk_data]   Package punkt is already up-to-date!\n",
      "[nltk_data] Downloading package stopwords to\n",
      "[nltk_data]     C:\\Users\\juesg\\AppData\\Roaming\\nltk_data...\n",
      "[nltk_data]   Package stopwords is already up-to-date!\n"
     ]
    }
   ],
   "source": [
    "import matplotlib.pyplot as plt\n",
    "import seaborn as sns\n",
    "sns.set()\n",
    "import pandas as pd\n",
    "import numpy as np\n",
    "import yellowbrick as yb\n",
    "import sys\n",
    "from sklearn.model_selection import train_test_split\n",
    "import itertools\n",
    "import nltk\n",
    "nltk.download('punkt')\n",
    "nltk.download('stopwords')\n",
    "from nltk.corpus import stopwords\n",
    "from vaderSentiment.vaderSentiment import SentimentIntensityAnalyzer\n",
    "import warnings\n",
    "warnings.filterwarnings('ignore')"
   ]
  },
  {
   "cell_type": "markdown",
   "metadata": {},
   "source": [
    "Leemos el archivo CSV creado en el proceso de depuración de datos"
   ]
  },
  {
   "cell_type": "code",
   "execution_count": 63,
   "metadata": {},
   "outputs": [],
   "source": [
    "df_ml = pd.read_csv(r'reviews.csv')"
   ]
  },
  {
   "cell_type": "code",
   "execution_count": 64,
   "metadata": {},
   "outputs": [
    {
     "name": "stdout",
     "output_type": "stream",
     "text": [
      "<class 'pandas.core.frame.DataFrame'>\n",
      "RangeIndex: 49120 entries, 0 to 49119\n",
      "Data columns (total 10 columns):\n",
      " #   Column       Non-Null Count  Dtype \n",
      "---  ------       --------------  ----- \n",
      " 0   user_id      49120 non-null  object\n",
      " 1   user_url     49120 non-null  object\n",
      " 2   funny        5782 non-null   object\n",
      " 3   posted       49120 non-null  object\n",
      " 4   last_edited  5124 non-null   object\n",
      " 5   item_id      49120 non-null  int64 \n",
      " 6   helpful      23326 non-null  object\n",
      " 7   recommend    49120 non-null  bool  \n",
      " 8   review       49093 non-null  object\n",
      " 9   anio_posted  49120 non-null  int64 \n",
      "dtypes: bool(1), int64(2), object(7)\n",
      "memory usage: 3.4+ MB\n"
     ]
    }
   ],
   "source": [
    "df_ml.info()"
   ]
  },
  {
   "cell_type": "markdown",
   "metadata": {},
   "source": [
    "Eliminaremos caracteres que pueden afectar el rendimiento del analisís"
   ]
  },
  {
   "cell_type": "code",
   "execution_count": 65,
   "metadata": {},
   "outputs": [],
   "source": [
    "df_ml['review'] = df_ml['review'].str.replace(\"'s\", \"\")\n",
    "df_ml['review'] = df_ml['review'].str.replace(\".\", \"\")\n",
    "df_ml['review'] = df_ml['review'].str.replace(\"``\", \"\")\n",
    "df_ml['review'] = df_ml['review'].str.replace(\",\", \"\")\n",
    "df_ml['review'] = df_ml['review'].str.replace(\".\", \"\")\n",
    "df_ml['review'] = df_ml['review'].str.replace(\"10\", \"good\")\n",
    "df_ml['review'] = df_ml['review'].str.replace('?', \"\")\n",
    "df_ml['review'] = df_ml['review'].str.replace('!', \"\")\n"
   ]
  },
  {
   "cell_type": "markdown",
   "metadata": {},
   "source": [
    "Con NLTK vamos a proceder a la Tokenización con el fin de pasar grandes cantidades de texto a porciones mas legibles para la interpretación del modelo:\n",
    "\n",
    "1. Seleccionamos la columna reviews que es la que queremos tokenizar.\n",
    "2. Pasamos el tipo de dato a string.\n",
    "3. Tokenizamos los textos de la columna.\n",
    "4. Luego tokenizamos las palabras.\n",
    "5. Definimos la lista de stopwords.\n",
    "6. A la tokenizacion de texto le sacamos las stopwords.\n",
    "7. Retornamos el resultado listo para para el análisis de sentimientos.\n"
   ]
  },
  {
   "cell_type": "code",
   "execution_count": 66,
   "metadata": {},
   "outputs": [],
   "source": [
    "def tokenizacion(x):\n",
    "    if isinstance(x, str):\n",
    "        # lista Stopwords\n",
    "        stopwords_list = stopwords.words('english')\n",
    "        stopwords_list = [word for word in stopwords_list if 'not' not in word]\n",
    "\n",
    "        # Tokenización y eliminación de stopwords\n",
    "        tokens = nltk.tokenize.sent_tokenize(x)\n",
    "        tokens = [word for word in tokens if word.lower() not in stopwords_list]\n",
    "\n",
    "        return ' '.join(tokens)\n",
    "        #return tokens\n",
    "    else:\n",
    "        return x  # Devuelve tal cual si no es una cadena\n",
    "    \n",
    "# aplicamos la función de tokenización\n",
    "df_ml['review'] = df_ml['review'].apply(lambda x: tokenizacion(x))"
   ]
  },
  {
   "cell_type": "markdown",
   "metadata": {},
   "source": [
    "Decidí utilizar el compund directamente pues es el resultado compuesto del análisis de sentimiento, este nos indica para valores mayores a 0 un sentimiento positivos y menores negativos. De esta forma garantizamos también que los valores clasificados como neutros sean aquellos que eran nulos."
   ]
  },
  {
   "cell_type": "code",
   "execution_count": 67,
   "metadata": {},
   "outputs": [],
   "source": [
    "sid = SentimentIntensityAnalyzer()\n",
    "\n",
    "def analyze_sentiment(text): # definición de la función\n",
    "    if pd.isnull(text) or text == '': # Condicional la celda esta vacia se clasifica como neutro, osea 1\n",
    "        return 1  \n",
    "    sentiment_scores = sid.polarity_scores(text) # devuelve la calificación \n",
    "    sentiment = sentiment_scores.get('compound') # el metodo seleccionado en el compund matematico\n",
    "    if sentiment > 0: # Si el compound es mayor a 0 se clasifica positivo\n",
    "        return 2\n",
    "    if sentiment < 0: # Si el compoun es menor a 0 se clasifica negativo\n",
    "        return 0\n",
    "\n",
    "\n",
    "df_ml['sentiment'] = df_ml['review'].apply(lambda x: analyze_sentiment(x)) # Aplicamos la función\n"
   ]
  },
  {
   "cell_type": "markdown",
   "metadata": {},
   "source": [
    "Verificamos los clasificados como neutros"
   ]
  },
  {
   "cell_type": "code",
   "execution_count": 68,
   "metadata": {},
   "outputs": [
    {
     "data": {
      "text/html": [
       "<div>\n",
       "<style scoped>\n",
       "    .dataframe tbody tr th:only-of-type {\n",
       "        vertical-align: middle;\n",
       "    }\n",
       "\n",
       "    .dataframe tbody tr th {\n",
       "        vertical-align: top;\n",
       "    }\n",
       "\n",
       "    .dataframe thead th {\n",
       "        text-align: right;\n",
       "    }\n",
       "</style>\n",
       "<table border=\"1\" class=\"dataframe\">\n",
       "  <thead>\n",
       "    <tr style=\"text-align: right;\">\n",
       "      <th></th>\n",
       "      <th>user_id</th>\n",
       "      <th>user_url</th>\n",
       "      <th>funny</th>\n",
       "      <th>posted</th>\n",
       "      <th>last_edited</th>\n",
       "      <th>item_id</th>\n",
       "      <th>helpful</th>\n",
       "      <th>recommend</th>\n",
       "      <th>review</th>\n",
       "      <th>anio_posted</th>\n",
       "      <th>sentiment</th>\n",
       "    </tr>\n",
       "  </thead>\n",
       "  <tbody>\n",
       "    <tr>\n",
       "      <th>481</th>\n",
       "      <td>76561198070263209</td>\n",
       "      <td>http://steamcommunity.com/profiles/76561198070...</td>\n",
       "      <td>NaN</td>\n",
       "      <td>2013-12-13</td>\n",
       "      <td>NaN</td>\n",
       "      <td>570</td>\n",
       "      <td>NaN</td>\n",
       "      <td>True</td>\n",
       "      <td></td>\n",
       "      <td>2013</td>\n",
       "      <td>1.0</td>\n",
       "    </tr>\n",
       "    <tr>\n",
       "      <th>683</th>\n",
       "      <td>Aurora99</td>\n",
       "      <td>http://steamcommunity.com/id/Aurora99</td>\n",
       "      <td>1 person found this review funny</td>\n",
       "      <td>2015-02-15</td>\n",
       "      <td>NaN</td>\n",
       "      <td>282440</td>\n",
       "      <td>0%</td>\n",
       "      <td>False</td>\n",
       "      <td></td>\n",
       "      <td>2015</td>\n",
       "      <td>1.0</td>\n",
       "    </tr>\n",
       "    <tr>\n",
       "      <th>713</th>\n",
       "      <td>Azrafael</td>\n",
       "      <td>http://steamcommunity.com/id/Azrafael</td>\n",
       "      <td>NaN</td>\n",
       "      <td>2013-11-25</td>\n",
       "      <td>NaN</td>\n",
       "      <td>215530</td>\n",
       "      <td>0%</td>\n",
       "      <td>True</td>\n",
       "      <td></td>\n",
       "      <td>2013</td>\n",
       "      <td>1.0</td>\n",
       "    </tr>\n",
       "    <tr>\n",
       "      <th>2217</th>\n",
       "      <td>76561198070792786</td>\n",
       "      <td>http://steamcommunity.com/profiles/76561198070...</td>\n",
       "      <td>1 person found this review funny</td>\n",
       "      <td>2015-08-14</td>\n",
       "      <td>NaN</td>\n",
       "      <td>329950</td>\n",
       "      <td>NaN</td>\n",
       "      <td>False</td>\n",
       "      <td></td>\n",
       "      <td>2015</td>\n",
       "      <td>1.0</td>\n",
       "    </tr>\n",
       "    <tr>\n",
       "      <th>2276</th>\n",
       "      <td>staecrh</td>\n",
       "      <td>http://steamcommunity.com/id/staecrh</td>\n",
       "      <td>NaN</td>\n",
       "      <td>2014-11-28</td>\n",
       "      <td>NaN</td>\n",
       "      <td>8870</td>\n",
       "      <td>22%</td>\n",
       "      <td>False</td>\n",
       "      <td></td>\n",
       "      <td>2014</td>\n",
       "      <td>1.0</td>\n",
       "    </tr>\n",
       "    <tr>\n",
       "      <th>...</th>\n",
       "      <td>...</td>\n",
       "      <td>...</td>\n",
       "      <td>...</td>\n",
       "      <td>...</td>\n",
       "      <td>...</td>\n",
       "      <td>...</td>\n",
       "      <td>...</td>\n",
       "      <td>...</td>\n",
       "      <td>...</td>\n",
       "      <td>...</td>\n",
       "      <td>...</td>\n",
       "    </tr>\n",
       "    <tr>\n",
       "      <th>47058</th>\n",
       "      <td>datmuffinfeel</td>\n",
       "      <td>http://steamcommunity.com/id/datmuffinfeel</td>\n",
       "      <td>NaN</td>\n",
       "      <td>2014-01-30</td>\n",
       "      <td>NaN</td>\n",
       "      <td>221100</td>\n",
       "      <td>NaN</td>\n",
       "      <td>True</td>\n",
       "      <td></td>\n",
       "      <td>2014</td>\n",
       "      <td>1.0</td>\n",
       "    </tr>\n",
       "    <tr>\n",
       "      <th>47152</th>\n",
       "      <td>3X5G3</td>\n",
       "      <td>http://steamcommunity.com/id/3X5G3</td>\n",
       "      <td>NaN</td>\n",
       "      <td>2014-02-03</td>\n",
       "      <td>NaN</td>\n",
       "      <td>208090</td>\n",
       "      <td>NaN</td>\n",
       "      <td>True</td>\n",
       "      <td></td>\n",
       "      <td>2014</td>\n",
       "      <td>1.0</td>\n",
       "    </tr>\n",
       "    <tr>\n",
       "      <th>47157</th>\n",
       "      <td>Salvotore</td>\n",
       "      <td>http://steamcommunity.com/id/Salvotore</td>\n",
       "      <td>NaN</td>\n",
       "      <td>2015-01-12</td>\n",
       "      <td>Last edited July 20, 2015.</td>\n",
       "      <td>730</td>\n",
       "      <td>NaN</td>\n",
       "      <td>True</td>\n",
       "      <td></td>\n",
       "      <td>2015</td>\n",
       "      <td>1.0</td>\n",
       "    </tr>\n",
       "    <tr>\n",
       "      <th>48332</th>\n",
       "      <td>76561198118697312</td>\n",
       "      <td>http://steamcommunity.com/profiles/76561198118...</td>\n",
       "      <td>NaN</td>\n",
       "      <td>2013-12-20</td>\n",
       "      <td>Last edited January 16, 2015.</td>\n",
       "      <td>105600</td>\n",
       "      <td>NaN</td>\n",
       "      <td>True</td>\n",
       "      <td></td>\n",
       "      <td>2013</td>\n",
       "      <td>1.0</td>\n",
       "    </tr>\n",
       "    <tr>\n",
       "      <th>48826</th>\n",
       "      <td>42456</td>\n",
       "      <td>http://steamcommunity.com/id/42456</td>\n",
       "      <td>2 people found this review funny</td>\n",
       "      <td>2014-07-30</td>\n",
       "      <td>NaN</td>\n",
       "      <td>304930</td>\n",
       "      <td>50%</td>\n",
       "      <td>True</td>\n",
       "      <td></td>\n",
       "      <td>2014</td>\n",
       "      <td>1.0</td>\n",
       "    </tr>\n",
       "  </tbody>\n",
       "</table>\n",
       "<p>169 rows × 11 columns</p>\n",
       "</div>"
      ],
      "text/plain": [
       "                 user_id                                           user_url  \\\n",
       "481    76561198070263209  http://steamcommunity.com/profiles/76561198070...   \n",
       "683             Aurora99              http://steamcommunity.com/id/Aurora99   \n",
       "713             Azrafael              http://steamcommunity.com/id/Azrafael   \n",
       "2217   76561198070792786  http://steamcommunity.com/profiles/76561198070...   \n",
       "2276             staecrh               http://steamcommunity.com/id/staecrh   \n",
       "...                  ...                                                ...   \n",
       "47058      datmuffinfeel         http://steamcommunity.com/id/datmuffinfeel   \n",
       "47152              3X5G3                 http://steamcommunity.com/id/3X5G3   \n",
       "47157          Salvotore             http://steamcommunity.com/id/Salvotore   \n",
       "48332  76561198118697312  http://steamcommunity.com/profiles/76561198118...   \n",
       "48826              42456                 http://steamcommunity.com/id/42456   \n",
       "\n",
       "                                  funny      posted  \\\n",
       "481                                 NaN  2013-12-13   \n",
       "683    1 person found this review funny  2015-02-15   \n",
       "713                                 NaN  2013-11-25   \n",
       "2217   1 person found this review funny  2015-08-14   \n",
       "2276                                NaN  2014-11-28   \n",
       "...                                 ...         ...   \n",
       "47058                               NaN  2014-01-30   \n",
       "47152                               NaN  2014-02-03   \n",
       "47157                               NaN  2015-01-12   \n",
       "48332                               NaN  2013-12-20   \n",
       "48826  2 people found this review funny  2014-07-30   \n",
       "\n",
       "                         last_edited  item_id helpful  recommend review  \\\n",
       "481                              NaN      570     NaN       True          \n",
       "683                              NaN   282440      0%      False          \n",
       "713                              NaN   215530      0%       True          \n",
       "2217                             NaN   329950     NaN      False          \n",
       "2276                             NaN     8870     22%      False          \n",
       "...                              ...      ...     ...        ...    ...   \n",
       "47058                            NaN   221100     NaN       True          \n",
       "47152                            NaN   208090     NaN       True          \n",
       "47157     Last edited July 20, 2015.      730     NaN       True          \n",
       "48332  Last edited January 16, 2015.   105600     NaN       True          \n",
       "48826                            NaN   304930     50%       True          \n",
       "\n",
       "       anio_posted  sentiment  \n",
       "481           2013        1.0  \n",
       "683           2015        1.0  \n",
       "713           2013        1.0  \n",
       "2217          2015        1.0  \n",
       "2276          2014        1.0  \n",
       "...            ...        ...  \n",
       "47058         2014        1.0  \n",
       "47152         2014        1.0  \n",
       "47157         2015        1.0  \n",
       "48332         2013        1.0  \n",
       "48826         2014        1.0  \n",
       "\n",
       "[169 rows x 11 columns]"
      ]
     },
     "execution_count": 68,
     "metadata": {},
     "output_type": "execute_result"
    }
   ],
   "source": [
    "df_ml[df_ml['sentiment'] == 1]"
   ]
  },
  {
   "cell_type": "markdown",
   "metadata": {},
   "source": [
    "Finalmente esta seria nuestra distribución por sentimiento."
   ]
  },
  {
   "cell_type": "code",
   "execution_count": 69,
   "metadata": {},
   "outputs": [
    {
     "data": {
      "text/plain": [
       "sentiment\n",
       "2.0    32124\n",
       "0.0     7690\n",
       "1.0      169\n",
       "Name: count, dtype: int64"
      ]
     },
     "execution_count": 69,
     "metadata": {},
     "output_type": "execute_result"
    }
   ],
   "source": [
    "df_ml['sentiment'].value_counts()"
   ]
  },
  {
   "cell_type": "code",
   "execution_count": 70,
   "metadata": {},
   "outputs": [
    {
     "data": {
      "text/plain": [
       "<Axes: xlabel='sentiment', ylabel='count'>"
      ]
     },
     "execution_count": 70,
     "metadata": {},
     "output_type": "execute_result"
    },
    {
     "data": {
      "image/png": "[encoded data removed]",
      "text/plain": [
       "<Figure size 800x550 with 1 Axes>"
      ]
     },
     "metadata": {},
     "output_type": "display_data"
    }
   ],
   "source": [
    "sns.countplot(df_ml, x=df_ml['sentiment'])"
   ]
  },
  {
   "cell_type": "markdown",
   "metadata": {},
   "source": [
    "Creo archivo con la base de datos del modelo de sentimiento con el fin de utilizarlo en las funciones"
   ]
  },
  {
   "cell_type": "code",
   "execution_count": 71,
   "metadata": {},
   "outputs": [],
   "source": [
    "df_ml.to_csv('recomendacion.csv',index=False)"
   ]
  },
  {
   "cell_type": "markdown",
   "metadata": {},
   "source": [
    "Preparamos archivo para la función"
   ]
  },
  {
   "cell_type": "code",
   "execution_count": 72,
   "metadata": {},
   "outputs": [],
   "source": [
    "games_sa = pd.read_csv(r'df_games_sentiment.csv')\n",
    "recomendacion_sa = pd.read_csv(r'recomendacion.csv')\n",
    "merged = pd.merge(recomendacion_sa, games_sa, left_on='item_id', right_on='id', how='left')\n",
    "merged.dropna(subset=['release_date_anio'], inplace=True)\n",
    "merged = merged[['release_date_anio','sentiment']]"
   ]
  },
  {
   "cell_type": "markdown",
   "metadata": {},
   "source": [
    "Guardamos el archivo en un formato CSV para la función"
   ]
  },
  {
   "cell_type": "code",
   "execution_count": 73,
   "metadata": {},
   "outputs": [],
   "source": [
    "merged.to_csv('merged_recomendacion.csv', index=False)"
   ]
  }
 ],
 "metadata": {
  "kernelspec": {
   "display_name": "Python 3",
   "language": "python",
   "name": "python3"
  },
  "language_info": {
   "codemirror_mode": {
    "name": "ipython",
    "version": 3
   },
   "file_extension": ".py",
   "mimetype": "text/x-python",
   "name": "python",
   "nbconvert_exporter": "python",
   "pygments_lexer": "ipython3",
   "version": "3.11.4"
  },
  "orig_nbformat": 4
 },
 "nbformat": 4,
 "nbformat_minor": 2
}
